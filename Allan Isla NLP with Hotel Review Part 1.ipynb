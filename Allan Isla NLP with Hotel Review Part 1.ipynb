{
 "cells": [
  {
   "cell_type": "code",
   "execution_count": 101,
   "id": "7b6a18b2",
   "metadata": {},
   "outputs": [],
   "source": [
    "import numpy as np\n",
    "import pandas as pd\n",
    "import matplotlib.pyplot as plt"
   ]
  },
  {
   "cell_type": "markdown",
   "id": "0581b11e",
   "metadata": {},
   "source": [
    "## Data preparation and cleaning"
   ]
  },
  {
   "cell_type": "code",
   "execution_count": 102,
   "id": "518b1c57",
   "metadata": {},
   "outputs": [
    {
     "data": {
      "text/html": [
       "<div>\n",
       "<style scoped>\n",
       "    .dataframe tbody tr th:only-of-type {\n",
       "        vertical-align: middle;\n",
       "    }\n",
       "\n",
       "    .dataframe tbody tr th {\n",
       "        vertical-align: top;\n",
       "    }\n",
       "\n",
       "    .dataframe thead th {\n",
       "        text-align: right;\n",
       "    }\n",
       "</style>\n",
       "<table border=\"1\" class=\"dataframe\">\n",
       "  <thead>\n",
       "    <tr style=\"text-align: right;\">\n",
       "      <th></th>\n",
       "      <th>Hotel_Address</th>\n",
       "      <th>Additional_Number_of_Scoring</th>\n",
       "      <th>Review_Date</th>\n",
       "      <th>Average_Score</th>\n",
       "      <th>Hotel_Name</th>\n",
       "      <th>Reviewer_Nationality</th>\n",
       "      <th>Negative_Review</th>\n",
       "      <th>Review_Total_Negative_Word_Counts</th>\n",
       "      <th>Total_Number_of_Reviews</th>\n",
       "      <th>Positive_Review</th>\n",
       "      <th>Review_Total_Positive_Word_Counts</th>\n",
       "      <th>Total_Number_of_Reviews_Reviewer_Has_Given</th>\n",
       "      <th>Reviewer_Score</th>\n",
       "      <th>Tags</th>\n",
       "      <th>days_since_review</th>\n",
       "      <th>lat</th>\n",
       "      <th>lng</th>\n",
       "    </tr>\n",
       "  </thead>\n",
       "  <tbody>\n",
       "    <tr>\n",
       "      <th>0</th>\n",
       "      <td>s Gravesandestraat 55 Oost 1092 AA Amsterdam ...</td>\n",
       "      <td>194</td>\n",
       "      <td>8/3/2017</td>\n",
       "      <td>7.7</td>\n",
       "      <td>Hotel Arena</td>\n",
       "      <td>Russia</td>\n",
       "      <td>I am so angry that i made this post available...</td>\n",
       "      <td>397</td>\n",
       "      <td>1403</td>\n",
       "      <td>Only the park outside of the hotel was beauti...</td>\n",
       "      <td>11</td>\n",
       "      <td>7</td>\n",
       "      <td>2.9</td>\n",
       "      <td>[' Leisure trip ', ' Couple ', ' Duplex Double...</td>\n",
       "      <td>0 days</td>\n",
       "      <td>52.360576</td>\n",
       "      <td>4.915968</td>\n",
       "    </tr>\n",
       "    <tr>\n",
       "      <th>1</th>\n",
       "      <td>s Gravesandestraat 55 Oost 1092 AA Amsterdam ...</td>\n",
       "      <td>194</td>\n",
       "      <td>8/3/2017</td>\n",
       "      <td>7.7</td>\n",
       "      <td>Hotel Arena</td>\n",
       "      <td>Ireland</td>\n",
       "      <td>No Negative</td>\n",
       "      <td>0</td>\n",
       "      <td>1403</td>\n",
       "      <td>No real complaints the hotel was great great ...</td>\n",
       "      <td>105</td>\n",
       "      <td>7</td>\n",
       "      <td>7.5</td>\n",
       "      <td>[' Leisure trip ', ' Couple ', ' Duplex Double...</td>\n",
       "      <td>0 days</td>\n",
       "      <td>52.360576</td>\n",
       "      <td>4.915968</td>\n",
       "    </tr>\n",
       "    <tr>\n",
       "      <th>2</th>\n",
       "      <td>s Gravesandestraat 55 Oost 1092 AA Amsterdam ...</td>\n",
       "      <td>194</td>\n",
       "      <td>7/31/2017</td>\n",
       "      <td>7.7</td>\n",
       "      <td>Hotel Arena</td>\n",
       "      <td>Australia</td>\n",
       "      <td>Rooms are nice but for elderly a bit difficul...</td>\n",
       "      <td>42</td>\n",
       "      <td>1403</td>\n",
       "      <td>Location was good and staff were ok It is cut...</td>\n",
       "      <td>21</td>\n",
       "      <td>9</td>\n",
       "      <td>7.1</td>\n",
       "      <td>[' Leisure trip ', ' Family with young childre...</td>\n",
       "      <td>3 days</td>\n",
       "      <td>52.360576</td>\n",
       "      <td>4.915968</td>\n",
       "    </tr>\n",
       "    <tr>\n",
       "      <th>3</th>\n",
       "      <td>s Gravesandestraat 55 Oost 1092 AA Amsterdam ...</td>\n",
       "      <td>194</td>\n",
       "      <td>7/31/2017</td>\n",
       "      <td>7.7</td>\n",
       "      <td>Hotel Arena</td>\n",
       "      <td>United Kingdom</td>\n",
       "      <td>My room was dirty and I was afraid to walk ba...</td>\n",
       "      <td>210</td>\n",
       "      <td>1403</td>\n",
       "      <td>Great location in nice surroundings the bar a...</td>\n",
       "      <td>26</td>\n",
       "      <td>1</td>\n",
       "      <td>3.8</td>\n",
       "      <td>[' Leisure trip ', ' Solo traveler ', ' Duplex...</td>\n",
       "      <td>3 days</td>\n",
       "      <td>52.360576</td>\n",
       "      <td>4.915968</td>\n",
       "    </tr>\n",
       "    <tr>\n",
       "      <th>4</th>\n",
       "      <td>s Gravesandestraat 55 Oost 1092 AA Amsterdam ...</td>\n",
       "      <td>194</td>\n",
       "      <td>7/24/2017</td>\n",
       "      <td>7.7</td>\n",
       "      <td>Hotel Arena</td>\n",
       "      <td>New Zealand</td>\n",
       "      <td>You When I booked with your company on line y...</td>\n",
       "      <td>140</td>\n",
       "      <td>1403</td>\n",
       "      <td>Amazing location and building Romantic setting</td>\n",
       "      <td>8</td>\n",
       "      <td>3</td>\n",
       "      <td>6.7</td>\n",
       "      <td>[' Leisure trip ', ' Couple ', ' Suite ', ' St...</td>\n",
       "      <td>10 days</td>\n",
       "      <td>52.360576</td>\n",
       "      <td>4.915968</td>\n",
       "    </tr>\n",
       "  </tbody>\n",
       "</table>\n",
       "</div>"
      ],
      "text/plain": [
       "                                       Hotel_Address  \\\n",
       "0   s Gravesandestraat 55 Oost 1092 AA Amsterdam ...   \n",
       "1   s Gravesandestraat 55 Oost 1092 AA Amsterdam ...   \n",
       "2   s Gravesandestraat 55 Oost 1092 AA Amsterdam ...   \n",
       "3   s Gravesandestraat 55 Oost 1092 AA Amsterdam ...   \n",
       "4   s Gravesandestraat 55 Oost 1092 AA Amsterdam ...   \n",
       "\n",
       "   Additional_Number_of_Scoring Review_Date  Average_Score   Hotel_Name  \\\n",
       "0                           194    8/3/2017            7.7  Hotel Arena   \n",
       "1                           194    8/3/2017            7.7  Hotel Arena   \n",
       "2                           194   7/31/2017            7.7  Hotel Arena   \n",
       "3                           194   7/31/2017            7.7  Hotel Arena   \n",
       "4                           194   7/24/2017            7.7  Hotel Arena   \n",
       "\n",
       "  Reviewer_Nationality                                    Negative_Review  \\\n",
       "0              Russia    I am so angry that i made this post available...   \n",
       "1             Ireland                                         No Negative   \n",
       "2           Australia    Rooms are nice but for elderly a bit difficul...   \n",
       "3      United Kingdom    My room was dirty and I was afraid to walk ba...   \n",
       "4         New Zealand    You When I booked with your company on line y...   \n",
       "\n",
       "   Review_Total_Negative_Word_Counts  Total_Number_of_Reviews  \\\n",
       "0                                397                     1403   \n",
       "1                                  0                     1403   \n",
       "2                                 42                     1403   \n",
       "3                                210                     1403   \n",
       "4                                140                     1403   \n",
       "\n",
       "                                     Positive_Review  \\\n",
       "0   Only the park outside of the hotel was beauti...   \n",
       "1   No real complaints the hotel was great great ...   \n",
       "2   Location was good and staff were ok It is cut...   \n",
       "3   Great location in nice surroundings the bar a...   \n",
       "4    Amazing location and building Romantic setting    \n",
       "\n",
       "   Review_Total_Positive_Word_Counts  \\\n",
       "0                                 11   \n",
       "1                                105   \n",
       "2                                 21   \n",
       "3                                 26   \n",
       "4                                  8   \n",
       "\n",
       "   Total_Number_of_Reviews_Reviewer_Has_Given  Reviewer_Score  \\\n",
       "0                                           7             2.9   \n",
       "1                                           7             7.5   \n",
       "2                                           9             7.1   \n",
       "3                                           1             3.8   \n",
       "4                                           3             6.7   \n",
       "\n",
       "                                                Tags days_since_review  \\\n",
       "0  [' Leisure trip ', ' Couple ', ' Duplex Double...            0 days   \n",
       "1  [' Leisure trip ', ' Couple ', ' Duplex Double...            0 days   \n",
       "2  [' Leisure trip ', ' Family with young childre...            3 days   \n",
       "3  [' Leisure trip ', ' Solo traveler ', ' Duplex...            3 days   \n",
       "4  [' Leisure trip ', ' Couple ', ' Suite ', ' St...           10 days   \n",
       "\n",
       "         lat       lng  \n",
       "0  52.360576  4.915968  \n",
       "1  52.360576  4.915968  \n",
       "2  52.360576  4.915968  \n",
       "3  52.360576  4.915968  \n",
       "4  52.360576  4.915968  "
      ]
     },
     "execution_count": 102,
     "metadata": {},
     "output_type": "execute_result"
    }
   ],
   "source": [
    "# Let's read in the data\n",
    "df = pd.read_csv('Hotel_Reviews.csv')\n",
    "df.head()"
   ]
  },
  {
   "cell_type": "markdown",
   "id": "1751436f",
   "metadata": {},
   "source": [
    "### Exploratory Data Analysis"
   ]
  },
  {
   "cell_type": "markdown",
   "id": "7c304de7",
   "metadata": {},
   "source": [
    "The target column of interest is `Reviewer_Score`."
   ]
  },
  {
   "cell_type": "markdown",
   "id": "119f003e",
   "metadata": {},
   "source": [
    "<u>Question 1a: What is the shape of the dataframe?<u>"
   ]
  },
  {
   "cell_type": "code",
   "execution_count": 103,
   "id": "3e48cd9b",
   "metadata": {},
   "outputs": [
    {
     "data": {
      "text/plain": [
       "(515738, 17)"
      ]
     },
     "execution_count": 103,
     "metadata": {},
     "output_type": "execute_result"
    }
   ],
   "source": [
    "#Dataframe shape\n",
    "df.shape"
   ]
  },
  {
   "cell_type": "code",
   "execution_count": 104,
   "id": "1e47cc5b",
   "metadata": {},
   "outputs": [
    {
     "name": "stdout",
     "output_type": "stream",
     "text": [
      "Our dataframe has 515738 rows and 17 columns.\n"
     ]
    }
   ],
   "source": [
    "print(f'Our dataframe has {df.shape[0]} rows and {df.shape[1]} columns.')"
   ]
  },
  {
   "cell_type": "markdown",
   "id": "264a206c",
   "metadata": {},
   "source": [
    "<u>Question 1b: The reviews provided are all given as decimal values. Convert them into integers from 1 to 10<u>"
   ]
  },
  {
   "cell_type": "code",
   "execution_count": 105,
   "id": "5dd66170",
   "metadata": {},
   "outputs": [
    {
     "name": "stdout",
     "output_type": "stream",
     "text": [
      "<class 'pandas.core.frame.DataFrame'>\n",
      "RangeIndex: 515738 entries, 0 to 515737\n",
      "Data columns (total 17 columns):\n",
      " #   Column                                      Non-Null Count   Dtype  \n",
      "---  ------                                      --------------   -----  \n",
      " 0   Hotel_Address                               515738 non-null  object \n",
      " 1   Additional_Number_of_Scoring                515738 non-null  int64  \n",
      " 2   Review_Date                                 515738 non-null  object \n",
      " 3   Average_Score                               515738 non-null  float64\n",
      " 4   Hotel_Name                                  515738 non-null  object \n",
      " 5   Reviewer_Nationality                        515738 non-null  object \n",
      " 6   Negative_Review                             515738 non-null  object \n",
      " 7   Review_Total_Negative_Word_Counts           515738 non-null  int64  \n",
      " 8   Total_Number_of_Reviews                     515738 non-null  int64  \n",
      " 9   Positive_Review                             515738 non-null  object \n",
      " 10  Review_Total_Positive_Word_Counts           515738 non-null  int64  \n",
      " 11  Total_Number_of_Reviews_Reviewer_Has_Given  515738 non-null  int64  \n",
      " 12  Reviewer_Score                              515738 non-null  float64\n",
      " 13  Tags                                        515738 non-null  object \n",
      " 14  days_since_review                           515738 non-null  object \n",
      " 15  lat                                         512470 non-null  float64\n",
      " 16  lng                                         512470 non-null  float64\n",
      "dtypes: float64(4), int64(5), object(8)\n",
      "memory usage: 66.9+ MB\n"
     ]
    }
   ],
   "source": [
    "#Find out the data type for each column\n",
    "df.info()"
   ]
  },
  {
   "cell_type": "markdown",
   "id": "9e22b845",
   "metadata": {},
   "source": [
    "The Reviewer_Score column provides floating values, but we want to convert them into integers."
   ]
  },
  {
   "cell_type": "code",
   "execution_count": 106,
   "id": "70f4462e",
   "metadata": {},
   "outputs": [
    {
     "data": {
      "text/plain": [
       "0         3.0\n",
       "1         8.0\n",
       "2         7.0\n",
       "3         4.0\n",
       "4         7.0\n",
       "         ... \n",
       "515733    7.0\n",
       "515734    6.0\n",
       "515735    2.0\n",
       "515736    9.0\n",
       "515737    8.0\n",
       "Name: Reviewer_Score, Length: 515738, dtype: float64"
      ]
     },
     "execution_count": 106,
     "metadata": {},
     "output_type": "execute_result"
    }
   ],
   "source": [
    "#Before converting the values into integers, I decided to round the values first\n",
    "df['Reviewer_Score'] = round(df['Reviewer_Score'])\n",
    "df['Reviewer_Score']"
   ]
  },
  {
   "cell_type": "code",
   "execution_count": 107,
   "id": "fa77f73b",
   "metadata": {},
   "outputs": [
    {
     "name": "stdout",
     "output_type": "stream",
     "text": [
      "0         3\n",
      "1         8\n",
      "2         7\n",
      "3         4\n",
      "4         7\n",
      "         ..\n",
      "515733    7\n",
      "515734    6\n",
      "515735    2\n",
      "515736    9\n",
      "515737    8\n",
      "Name: Reviewer_Score, Length: 515738, dtype: int64\n"
     ]
    }
   ],
   "source": [
    "#Q1(b). Convert Reviewer_Score column into integers\n",
    "df['Reviewer_Score'] = df['Reviewer_Score'].astype(int)\n",
    "print(df['Reviewer_Score'])\n",
    "\n",
    "#dtype shows this column is now an integer instead of a float, also decimals have been removed"
   ]
  },
  {
   "cell_type": "markdown",
   "id": "cb49c118",
   "metadata": {},
   "source": [
    "<u>Question 1c: The reviews are scored from 1 to 10. What do you expect the distribution of scores to look like? What is the actual distribution of reviews?<u>"
   ]
  },
  {
   "cell_type": "markdown",
   "id": "87551c31",
   "metadata": {},
   "source": [
    "We should take a quick look at particular attributes of the dataset to highlight if any cleaning is required."
   ]
  },
  {
   "cell_type": "code",
   "execution_count": 108,
   "id": "357412a2",
   "metadata": {},
   "outputs": [
    {
     "name": "stdout",
     "output_type": "stream",
     "text": [
      "Rows: 515738\n",
      "Missing values: 0\n",
      "Duplicated rows: 515729\n"
     ]
    }
   ],
   "source": [
    "# EDA summary\n",
    "print(f\"Rows: {df['Reviewer_Score'].shape[0]}\")\n",
    "print(f\"Missing values: {df['Reviewer_Score'].isna().sum().sum()}\")\n",
    "print(f\"Duplicated rows: {df['Reviewer_Score'].duplicated().sum()}\")"
   ]
  },
  {
   "cell_type": "code",
   "execution_count": 109,
   "id": "9a9959e1",
   "metadata": {},
   "outputs": [
    {
     "data": {
      "text/plain": [
       "526"
      ]
     },
     "execution_count": 109,
     "metadata": {},
     "output_type": "execute_result"
    }
   ],
   "source": [
    "#Calculate the sum of duplicated rows\n",
    "df.duplicated().sum()"
   ]
  },
  {
   "cell_type": "code",
   "execution_count": 110,
   "id": "1f94c88d",
   "metadata": {},
   "outputs": [],
   "source": [
    "#I will delete duplicate values 526 rows\n",
    "df.drop_duplicates(inplace=True,ignore_index=True)"
   ]
  },
  {
   "cell_type": "code",
   "execution_count": 111,
   "id": "2de5fcca",
   "metadata": {},
   "outputs": [
    {
     "data": {
      "text/plain": [
       "0"
      ]
     },
     "execution_count": 111,
     "metadata": {},
     "output_type": "execute_result"
    }
   ],
   "source": [
    "#Check again that duplicated rows are gone\n",
    "df.duplicated().sum()"
   ]
  },
  {
   "cell_type": "code",
   "execution_count": 112,
   "id": "55eb62cd",
   "metadata": {},
   "outputs": [
    {
     "data": {
      "text/plain": [
       "count    515212.000000\n",
       "mean          8.458019\n",
       "std           1.683300\n",
       "min           2.000000\n",
       "25%           8.000000\n",
       "50%           9.000000\n",
       "75%          10.000000\n",
       "max          10.000000\n",
       "Name: Reviewer_Score, dtype: float64"
      ]
     },
     "execution_count": 112,
     "metadata": {},
     "output_type": "execute_result"
    }
   ],
   "source": [
    "# Check summary statistics\n",
    "df['Reviewer_Score'].describe()"
   ]
  },
  {
   "cell_type": "code",
   "execution_count": 113,
   "id": "e5e8e24f",
   "metadata": {},
   "outputs": [
    {
     "data": {
      "text/plain": [
       "0"
      ]
     },
     "execution_count": 113,
     "metadata": {},
     "output_type": "execute_result"
    }
   ],
   "source": [
    "# Check to make sure if there are any null values that can influence this column\n",
    "df['Reviewer_Score'].isna().sum()\n",
    "\n",
    "#No null values"
   ]
  },
  {
   "cell_type": "code",
   "execution_count": 114,
   "id": "c5779a27",
   "metadata": {},
   "outputs": [
    {
     "name": "stdout",
     "output_type": "stream",
     "text": [
      "Median score: 9.0\n"
     ]
    }
   ],
   "source": [
    "#Check the median score\n",
    "print(\"Median score:\", df['Reviewer_Score'].median())"
   ]
  },
  {
   "cell_type": "code",
   "execution_count": 115,
   "id": "01546b8a",
   "metadata": {},
   "outputs": [
    {
     "name": "stdout",
     "output_type": "stream",
     "text": [
      "Mean score: 8.45801922315474\n"
     ]
    }
   ],
   "source": [
    "#Check the average score\n",
    "print(\"Mean score:\", df['Reviewer_Score'].mean())"
   ]
  },
  {
   "cell_type": "code",
   "execution_count": 116,
   "id": "47bd0953",
   "metadata": {},
   "outputs": [
    {
     "data": {
      "image/png": "[encoded data removed]",
      "text/plain": [
       "<Figure size 432x288 with 1 Axes>"
      ]
     },
     "metadata": {
      "needs_background": "light"
     },
     "output_type": "display_data"
    }
   ],
   "source": [
    "# Let's do a little EDA and visualize the reviewer score column to inform our decision\n",
    "plt.figure()\n",
    "plt.hist(df['Reviewer_Score'], bins=25)\n",
    "plt.xlabel('Rating')\n",
    "plt.ylabel('Count of Reviews')\n",
    "plt.title('Distribution of Reviewer Score')\n",
    "plt.axvline(df['Reviewer_Score'].median(), label='median', color='cornflowerblue')\n",
    "plt.axvline(df['Reviewer_Score'].mean(), label='mean', color='goldenrod')\n",
    "plt.legend()\n",
    "plt.show()"
   ]
  },
  {
   "cell_type": "markdown",
   "id": "680e9e8d",
   "metadata": {},
   "source": [
    "It appears that the mean and median of reviews are between 8 and 9. Let's do a value count to confirm this."
   ]
  },
  {
   "cell_type": "code",
   "execution_count": 117,
   "id": "c5113183",
   "metadata": {},
   "outputs": [
    {
     "data": {
      "text/plain": [
       "10    187592\n",
       "9     105621\n",
       "8     110035\n",
       "7      44041\n",
       "6      27765\n",
       "5      24152\n",
       "4       9421\n",
       "3       4393\n",
       "2       2192\n",
       "Name: Reviewer_Score, dtype: int64"
      ]
     },
     "execution_count": 117,
     "metadata": {},
     "output_type": "execute_result"
    }
   ],
   "source": [
    "# Check all distinct values\n",
    "df['Reviewer_Score'].value_counts().sort_index(ascending=False)"
   ]
  },
  {
   "cell_type": "markdown",
   "id": "4feb5f3c",
   "metadata": {},
   "source": [
    "8, 9 and 10 was the most common score by reviewers by a wide margin."
   ]
  },
  {
   "cell_type": "code",
   "execution_count": 118,
   "id": "9ef43f79",
   "metadata": {},
   "outputs": [
    {
     "data": {
      "image/png": "[encoded data removed]",
      "text/plain": [
       "<Figure size 432x288 with 1 Axes>"
      ]
     },
     "metadata": {
      "needs_background": "light"
     },
     "output_type": "display_data"
    }
   ],
   "source": [
    "df['Reviewer_Score'].value_counts().sort_index(ascending=True).plot(kind='bar')\n",
    "plt.title('Reviewer Score')\n",
    "plt.xlabel('Rating')\n",
    "plt.ylabel('Count of Reviews')\n",
    "plt.show()"
   ]
  },
  {
   "cell_type": "code",
   "execution_count": 119,
   "id": "42bf95e8",
   "metadata": {},
   "outputs": [
    {
     "data": {
      "text/plain": [
       "10    36.410643\n",
       "8     21.357228\n",
       "9     20.500493\n",
       "7      8.548132\n",
       "6      5.389044\n",
       "5      4.687779\n",
       "4      1.828568\n",
       "3      0.852659\n",
       "2      0.425456\n",
       "Name: Reviewer_Score, dtype: float64"
      ]
     },
     "execution_count": 119,
     "metadata": {},
     "output_type": "execute_result"
    }
   ],
   "source": [
    "#Checking the percentage of reviews for each score\n",
    "df['Reviewer_Score'].value_counts()/df.shape[0]*100.0"
   ]
  },
  {
   "cell_type": "markdown",
   "id": "95832307",
   "metadata": {},
   "source": [
    "Since most of the reviews are 8 or higher, I decided to create a binary column to see how many reviews are greater than or equal to 8 vs how many reviews were below an 8."
   ]
  },
  {
   "cell_type": "code",
   "execution_count": 120,
   "id": "6f968ab8",
   "metadata": {},
   "outputs": [],
   "source": [
    "#Make a binary column to detect how many reviews are 8 and above or lower\n",
    "df['Positive_or_Negative']= np.where(df['Reviewer_Score'] >= 8, 1, 0)"
   ]
  },
  {
   "cell_type": "code",
   "execution_count": 121,
   "id": "5d2880f6",
   "metadata": {},
   "outputs": [
    {
     "data": {
      "text/plain": [
       "1    403248\n",
       "0    111964\n",
       "Name: Positive_or_Negative, dtype: int64"
      ]
     },
     "execution_count": 121,
     "metadata": {},
     "output_type": "execute_result"
    }
   ],
   "source": [
    "#Counting the amount of scores that are greater than or equal to 8 and below\n",
    "df['Positive_or_Negative'].value_counts()"
   ]
  },
  {
   "cell_type": "code",
   "execution_count": 122,
   "id": "6dd245b7",
   "metadata": {},
   "outputs": [
    {
     "data": {
      "text/plain": [
       "1    78.268363\n",
       "0    21.731637\n",
       "Name: Positive_or_Negative, dtype: float64"
      ]
     },
     "execution_count": 122,
     "metadata": {},
     "output_type": "execute_result"
    }
   ],
   "source": [
    "#Calculating the percentage\n",
    "df['Positive_or_Negative'].value_counts()/df['Positive_or_Negative'].shape[0]*100.0"
   ]
  },
  {
   "cell_type": "markdown",
   "id": "ebeb58cb",
   "metadata": {},
   "source": [
    "The percentage of reviews that are 8 and above are significantly more than those that are below an 8. I'll address what kind of problem this can cause in the next question."
   ]
  },
  {
   "cell_type": "markdown",
   "id": "2c9bd647",
   "metadata": {},
   "source": [
    "We will drop Positive_or_Negative since we just encoded it into a new column:"
   ]
  },
  {
   "cell_type": "code",
   "execution_count": 123,
   "id": "2d08cb6c",
   "metadata": {},
   "outputs": [],
   "source": [
    "df.drop(columns = 'Positive_or_Negative',inplace = True)"
   ]
  },
  {
   "cell_type": "markdown",
   "id": "aa657ffb",
   "metadata": {},
   "source": [
    "<u>Question 1d: Given this will be a classification problem, what is a potential problem with this distribution?<u>"
   ]
  },
  {
   "cell_type": "markdown",
   "id": "9c0d1099",
   "metadata": {},
   "source": [
    "The purpose of keeping track of reviews is evaluate how many visitors are having positive experiences compared to those who have had negative experiences.\n",
    "\n",
    "The problem with this distribution is the imbalance of classifications. If we are to make a binary classification of the scores and classify the reviews that received a score of 8 and above as Positive and everything below an 8 is Negative then we see that the distribution of Positive vs Negative is not even.\n",
    "\n",
    "78% of the scores are Positive whereas 22% are Negative.\n",
    "\n",
    "Imbalanced classifications pose a challenge for predictive modeling as most of the machine learning algorithms used for classification were designed around the assumption of an equal number of examples for each class. This results in models that have poor predictive performance, specifically for the minority class.\n",
    "\n",
    "The authenticity of these ratings is questionable as people who often leave reviews could be more inclined to be more positive than those who didn't enjoy their experience and prefer not to say anything at all."
   ]
  },
  {
   "cell_type": "markdown",
   "id": "6303e115",
   "metadata": {},
   "source": [
    "<u>Question 2: This dataset has a good mix of numeric and non-numeric columns. Which columns are numeric? Which are non-numeric? Can you turn some of the non-numeric columns to numeric?<u>"
   ]
  },
  {
   "cell_type": "code",
   "execution_count": 124,
   "id": "38be99df",
   "metadata": {},
   "outputs": [
    {
     "name": "stdout",
     "output_type": "stream",
     "text": [
      "<class 'pandas.core.frame.DataFrame'>\n",
      "RangeIndex: 515212 entries, 0 to 515211\n",
      "Data columns (total 17 columns):\n",
      " #   Column                                      Non-Null Count   Dtype  \n",
      "---  ------                                      --------------   -----  \n",
      " 0   Hotel_Address                               515212 non-null  object \n",
      " 1   Additional_Number_of_Scoring                515212 non-null  int64  \n",
      " 2   Review_Date                                 515212 non-null  object \n",
      " 3   Average_Score                               515212 non-null  float64\n",
      " 4   Hotel_Name                                  515212 non-null  object \n",
      " 5   Reviewer_Nationality                        515212 non-null  object \n",
      " 6   Negative_Review                             515212 non-null  object \n",
      " 7   Review_Total_Negative_Word_Counts           515212 non-null  int64  \n",
      " 8   Total_Number_of_Reviews                     515212 non-null  int64  \n",
      " 9   Positive_Review                             515212 non-null  object \n",
      " 10  Review_Total_Positive_Word_Counts           515212 non-null  int64  \n",
      " 11  Total_Number_of_Reviews_Reviewer_Has_Given  515212 non-null  int64  \n",
      " 12  Reviewer_Score                              515212 non-null  int64  \n",
      " 13  Tags                                        515212 non-null  object \n",
      " 14  days_since_review                           515212 non-null  object \n",
      " 15  lat                                         511944 non-null  float64\n",
      " 16  lng                                         511944 non-null  float64\n",
      "dtypes: float64(3), int64(6), object(8)\n",
      "memory usage: 66.8+ MB\n"
     ]
    }
   ],
   "source": [
    "#Let's check again which columns are numeric and which ones are non-numeric.\n",
    "df.info()"
   ]
  },
  {
   "cell_type": "code",
   "execution_count": 125,
   "id": "9dd91b32",
   "metadata": {},
   "outputs": [
    {
     "data": {
      "text/plain": [
       "Hotel_Address                                    0\n",
       "Additional_Number_of_Scoring                     0\n",
       "Review_Date                                      0\n",
       "Average_Score                                    0\n",
       "Hotel_Name                                       0\n",
       "Reviewer_Nationality                             0\n",
       "Negative_Review                                  0\n",
       "Review_Total_Negative_Word_Counts                0\n",
       "Total_Number_of_Reviews                          0\n",
       "Positive_Review                                  0\n",
       "Review_Total_Positive_Word_Counts                0\n",
       "Total_Number_of_Reviews_Reviewer_Has_Given       0\n",
       "Reviewer_Score                                   0\n",
       "Tags                                             0\n",
       "days_since_review                                0\n",
       "lat                                           3268\n",
       "lng                                           3268\n",
       "dtype: int64"
      ]
     },
     "execution_count": 125,
     "metadata": {},
     "output_type": "execute_result"
    }
   ],
   "source": [
    "#Let's check to see if any columns have any null values that can influence the data.\n",
    "df.isnull().sum()"
   ]
  },
  {
   "cell_type": "code",
   "execution_count": 126,
   "id": "4f42e389",
   "metadata": {},
   "outputs": [],
   "source": [
    "#Since there is a minimal set of null values and they are only on the Lat and Long columns\n",
    "#I decided to drop these 2 columns. Also they don't add any useful information since we already have\n",
    "#the address of the hotels.\n",
    "df.drop(['lat', 'lng'], axis=1, inplace=True)"
   ]
  },
  {
   "cell_type": "code",
   "execution_count": 127,
   "id": "b119fb04",
   "metadata": {},
   "outputs": [
    {
     "data": {
      "text/html": [
       "<div>\n",
       "<style scoped>\n",
       "    .dataframe tbody tr th:only-of-type {\n",
       "        vertical-align: middle;\n",
       "    }\n",
       "\n",
       "    .dataframe tbody tr th {\n",
       "        vertical-align: top;\n",
       "    }\n",
       "\n",
       "    .dataframe thead th {\n",
       "        text-align: right;\n",
       "    }\n",
       "</style>\n",
       "<table border=\"1\" class=\"dataframe\">\n",
       "  <thead>\n",
       "    <tr style=\"text-align: right;\">\n",
       "      <th></th>\n",
       "      <th>Hotel_Address</th>\n",
       "      <th>Additional_Number_of_Scoring</th>\n",
       "      <th>Review_Date</th>\n",
       "      <th>Average_Score</th>\n",
       "      <th>Hotel_Name</th>\n",
       "      <th>Reviewer_Nationality</th>\n",
       "      <th>Negative_Review</th>\n",
       "      <th>Review_Total_Negative_Word_Counts</th>\n",
       "      <th>Total_Number_of_Reviews</th>\n",
       "      <th>Positive_Review</th>\n",
       "      <th>Review_Total_Positive_Word_Counts</th>\n",
       "      <th>Total_Number_of_Reviews_Reviewer_Has_Given</th>\n",
       "      <th>Reviewer_Score</th>\n",
       "      <th>Tags</th>\n",
       "      <th>days_since_review</th>\n",
       "    </tr>\n",
       "  </thead>\n",
       "  <tbody>\n",
       "    <tr>\n",
       "      <th>0</th>\n",
       "      <td>s Gravesandestraat 55 Oost 1092 AA Amsterdam ...</td>\n",
       "      <td>194</td>\n",
       "      <td>8/3/2017</td>\n",
       "      <td>7.7</td>\n",
       "      <td>Hotel Arena</td>\n",
       "      <td>Russia</td>\n",
       "      <td>I am so angry that i made this post available...</td>\n",
       "      <td>397</td>\n",
       "      <td>1403</td>\n",
       "      <td>Only the park outside of the hotel was beauti...</td>\n",
       "      <td>11</td>\n",
       "      <td>7</td>\n",
       "      <td>3</td>\n",
       "      <td>[' Leisure trip ', ' Couple ', ' Duplex Double...</td>\n",
       "      <td>0 days</td>\n",
       "    </tr>\n",
       "    <tr>\n",
       "      <th>1</th>\n",
       "      <td>s Gravesandestraat 55 Oost 1092 AA Amsterdam ...</td>\n",
       "      <td>194</td>\n",
       "      <td>8/3/2017</td>\n",
       "      <td>7.7</td>\n",
       "      <td>Hotel Arena</td>\n",
       "      <td>Ireland</td>\n",
       "      <td>No Negative</td>\n",
       "      <td>0</td>\n",
       "      <td>1403</td>\n",
       "      <td>No real complaints the hotel was great great ...</td>\n",
       "      <td>105</td>\n",
       "      <td>7</td>\n",
       "      <td>8</td>\n",
       "      <td>[' Leisure trip ', ' Couple ', ' Duplex Double...</td>\n",
       "      <td>0 days</td>\n",
       "    </tr>\n",
       "    <tr>\n",
       "      <th>2</th>\n",
       "      <td>s Gravesandestraat 55 Oost 1092 AA Amsterdam ...</td>\n",
       "      <td>194</td>\n",
       "      <td>7/31/2017</td>\n",
       "      <td>7.7</td>\n",
       "      <td>Hotel Arena</td>\n",
       "      <td>Australia</td>\n",
       "      <td>Rooms are nice but for elderly a bit difficul...</td>\n",
       "      <td>42</td>\n",
       "      <td>1403</td>\n",
       "      <td>Location was good and staff were ok It is cut...</td>\n",
       "      <td>21</td>\n",
       "      <td>9</td>\n",
       "      <td>7</td>\n",
       "      <td>[' Leisure trip ', ' Family with young childre...</td>\n",
       "      <td>3 days</td>\n",
       "    </tr>\n",
       "    <tr>\n",
       "      <th>3</th>\n",
       "      <td>s Gravesandestraat 55 Oost 1092 AA Amsterdam ...</td>\n",
       "      <td>194</td>\n",
       "      <td>7/31/2017</td>\n",
       "      <td>7.7</td>\n",
       "      <td>Hotel Arena</td>\n",
       "      <td>United Kingdom</td>\n",
       "      <td>My room was dirty and I was afraid to walk ba...</td>\n",
       "      <td>210</td>\n",
       "      <td>1403</td>\n",
       "      <td>Great location in nice surroundings the bar a...</td>\n",
       "      <td>26</td>\n",
       "      <td>1</td>\n",
       "      <td>4</td>\n",
       "      <td>[' Leisure trip ', ' Solo traveler ', ' Duplex...</td>\n",
       "      <td>3 days</td>\n",
       "    </tr>\n",
       "    <tr>\n",
       "      <th>4</th>\n",
       "      <td>s Gravesandestraat 55 Oost 1092 AA Amsterdam ...</td>\n",
       "      <td>194</td>\n",
       "      <td>7/24/2017</td>\n",
       "      <td>7.7</td>\n",
       "      <td>Hotel Arena</td>\n",
       "      <td>New Zealand</td>\n",
       "      <td>You When I booked with your company on line y...</td>\n",
       "      <td>140</td>\n",
       "      <td>1403</td>\n",
       "      <td>Amazing location and building Romantic setting</td>\n",
       "      <td>8</td>\n",
       "      <td>3</td>\n",
       "      <td>7</td>\n",
       "      <td>[' Leisure trip ', ' Couple ', ' Suite ', ' St...</td>\n",
       "      <td>10 days</td>\n",
       "    </tr>\n",
       "  </tbody>\n",
       "</table>\n",
       "</div>"
      ],
      "text/plain": [
       "                                       Hotel_Address  \\\n",
       "0   s Gravesandestraat 55 Oost 1092 AA Amsterdam ...   \n",
       "1   s Gravesandestraat 55 Oost 1092 AA Amsterdam ...   \n",
       "2   s Gravesandestraat 55 Oost 1092 AA Amsterdam ...   \n",
       "3   s Gravesandestraat 55 Oost 1092 AA Amsterdam ...   \n",
       "4   s Gravesandestraat 55 Oost 1092 AA Amsterdam ...   \n",
       "\n",
       "   Additional_Number_of_Scoring Review_Date  Average_Score   Hotel_Name  \\\n",
       "0                           194    8/3/2017            7.7  Hotel Arena   \n",
       "1                           194    8/3/2017            7.7  Hotel Arena   \n",
       "2                           194   7/31/2017            7.7  Hotel Arena   \n",
       "3                           194   7/31/2017            7.7  Hotel Arena   \n",
       "4                           194   7/24/2017            7.7  Hotel Arena   \n",
       "\n",
       "  Reviewer_Nationality                                    Negative_Review  \\\n",
       "0              Russia    I am so angry that i made this post available...   \n",
       "1             Ireland                                         No Negative   \n",
       "2           Australia    Rooms are nice but for elderly a bit difficul...   \n",
       "3      United Kingdom    My room was dirty and I was afraid to walk ba...   \n",
       "4         New Zealand    You When I booked with your company on line y...   \n",
       "\n",
       "   Review_Total_Negative_Word_Counts  Total_Number_of_Reviews  \\\n",
       "0                                397                     1403   \n",
       "1                                  0                     1403   \n",
       "2                                 42                     1403   \n",
       "3                                210                     1403   \n",
       "4                                140                     1403   \n",
       "\n",
       "                                     Positive_Review  \\\n",
       "0   Only the park outside of the hotel was beauti...   \n",
       "1   No real complaints the hotel was great great ...   \n",
       "2   Location was good and staff were ok It is cut...   \n",
       "3   Great location in nice surroundings the bar a...   \n",
       "4    Amazing location and building Romantic setting    \n",
       "\n",
       "   Review_Total_Positive_Word_Counts  \\\n",
       "0                                 11   \n",
       "1                                105   \n",
       "2                                 21   \n",
       "3                                 26   \n",
       "4                                  8   \n",
       "\n",
       "   Total_Number_of_Reviews_Reviewer_Has_Given  Reviewer_Score  \\\n",
       "0                                           7               3   \n",
       "1                                           7               8   \n",
       "2                                           9               7   \n",
       "3                                           1               4   \n",
       "4                                           3               7   \n",
       "\n",
       "                                                Tags days_since_review  \n",
       "0  [' Leisure trip ', ' Couple ', ' Duplex Double...            0 days  \n",
       "1  [' Leisure trip ', ' Couple ', ' Duplex Double...            0 days  \n",
       "2  [' Leisure trip ', ' Family with young childre...            3 days  \n",
       "3  [' Leisure trip ', ' Solo traveler ', ' Duplex...            3 days  \n",
       "4  [' Leisure trip ', ' Couple ', ' Suite ', ' St...           10 days  "
      ]
     },
     "execution_count": 127,
     "metadata": {},
     "output_type": "execute_result"
    }
   ],
   "source": [
    "#Check that the latitude and longitude columns are dropped\n",
    "df.head()"
   ]
  },
  {
   "cell_type": "code",
   "execution_count": 128,
   "id": "b73b7097",
   "metadata": {},
   "outputs": [
    {
     "data": {
      "text/html": [
       "<div>\n",
       "<style scoped>\n",
       "    .dataframe tbody tr th:only-of-type {\n",
       "        vertical-align: middle;\n",
       "    }\n",
       "\n",
       "    .dataframe tbody tr th {\n",
       "        vertical-align: top;\n",
       "    }\n",
       "\n",
       "    .dataframe thead th {\n",
       "        text-align: right;\n",
       "    }\n",
       "</style>\n",
       "<table border=\"1\" class=\"dataframe\">\n",
       "  <thead>\n",
       "    <tr style=\"text-align: right;\">\n",
       "      <th></th>\n",
       "      <th>Additional_Number_of_Scoring</th>\n",
       "      <th>Average_Score</th>\n",
       "      <th>Review_Total_Negative_Word_Counts</th>\n",
       "      <th>Total_Number_of_Reviews</th>\n",
       "      <th>Review_Total_Positive_Word_Counts</th>\n",
       "      <th>Total_Number_of_Reviews_Reviewer_Has_Given</th>\n",
       "      <th>Reviewer_Score</th>\n",
       "    </tr>\n",
       "  </thead>\n",
       "  <tbody>\n",
       "    <tr>\n",
       "      <th>0</th>\n",
       "      <td>194</td>\n",
       "      <td>7.7</td>\n",
       "      <td>397</td>\n",
       "      <td>1403</td>\n",
       "      <td>11</td>\n",
       "      <td>7</td>\n",
       "      <td>3</td>\n",
       "    </tr>\n",
       "    <tr>\n",
       "      <th>1</th>\n",
       "      <td>194</td>\n",
       "      <td>7.7</td>\n",
       "      <td>0</td>\n",
       "      <td>1403</td>\n",
       "      <td>105</td>\n",
       "      <td>7</td>\n",
       "      <td>8</td>\n",
       "    </tr>\n",
       "    <tr>\n",
       "      <th>2</th>\n",
       "      <td>194</td>\n",
       "      <td>7.7</td>\n",
       "      <td>42</td>\n",
       "      <td>1403</td>\n",
       "      <td>21</td>\n",
       "      <td>9</td>\n",
       "      <td>7</td>\n",
       "    </tr>\n",
       "    <tr>\n",
       "      <th>3</th>\n",
       "      <td>194</td>\n",
       "      <td>7.7</td>\n",
       "      <td>210</td>\n",
       "      <td>1403</td>\n",
       "      <td>26</td>\n",
       "      <td>1</td>\n",
       "      <td>4</td>\n",
       "    </tr>\n",
       "    <tr>\n",
       "      <th>4</th>\n",
       "      <td>194</td>\n",
       "      <td>7.7</td>\n",
       "      <td>140</td>\n",
       "      <td>1403</td>\n",
       "      <td>8</td>\n",
       "      <td>3</td>\n",
       "      <td>7</td>\n",
       "    </tr>\n",
       "  </tbody>\n",
       "</table>\n",
       "</div>"
      ],
      "text/plain": [
       "   Additional_Number_of_Scoring  Average_Score  \\\n",
       "0                           194            7.7   \n",
       "1                           194            7.7   \n",
       "2                           194            7.7   \n",
       "3                           194            7.7   \n",
       "4                           194            7.7   \n",
       "\n",
       "   Review_Total_Negative_Word_Counts  Total_Number_of_Reviews  \\\n",
       "0                                397                     1403   \n",
       "1                                  0                     1403   \n",
       "2                                 42                     1403   \n",
       "3                                210                     1403   \n",
       "4                                140                     1403   \n",
       "\n",
       "   Review_Total_Positive_Word_Counts  \\\n",
       "0                                 11   \n",
       "1                                105   \n",
       "2                                 21   \n",
       "3                                 26   \n",
       "4                                  8   \n",
       "\n",
       "   Total_Number_of_Reviews_Reviewer_Has_Given  Reviewer_Score  \n",
       "0                                           7               3  \n",
       "1                                           7               8  \n",
       "2                                           9               7  \n",
       "3                                           1               4  \n",
       "4                                           3               7  "
      ]
     },
     "execution_count": 128,
     "metadata": {},
     "output_type": "execute_result"
    }
   ],
   "source": [
    "# Make a dataframe with only the numeric columns\n",
    "numeric_df = df.select_dtypes(['int64','float64']).copy()\n",
    "\n",
    "numeric_df.head()"
   ]
  },
  {
   "cell_type": "code",
   "execution_count": 129,
   "id": "8a2427f6",
   "metadata": {},
   "outputs": [
    {
     "data": {
      "text/html": [
       "<div>\n",
       "<style scoped>\n",
       "    .dataframe tbody tr th:only-of-type {\n",
       "        vertical-align: middle;\n",
       "    }\n",
       "\n",
       "    .dataframe tbody tr th {\n",
       "        vertical-align: top;\n",
       "    }\n",
       "\n",
       "    .dataframe thead th {\n",
       "        text-align: right;\n",
       "    }\n",
       "</style>\n",
       "<table border=\"1\" class=\"dataframe\">\n",
       "  <thead>\n",
       "    <tr style=\"text-align: right;\">\n",
       "      <th></th>\n",
       "      <th>Hotel_Address</th>\n",
       "      <th>Review_Date</th>\n",
       "      <th>Hotel_Name</th>\n",
       "      <th>Reviewer_Nationality</th>\n",
       "      <th>Negative_Review</th>\n",
       "      <th>Positive_Review</th>\n",
       "      <th>Tags</th>\n",
       "      <th>days_since_review</th>\n",
       "    </tr>\n",
       "  </thead>\n",
       "  <tbody>\n",
       "    <tr>\n",
       "      <th>0</th>\n",
       "      <td>s Gravesandestraat 55 Oost 1092 AA Amsterdam ...</td>\n",
       "      <td>8/3/2017</td>\n",
       "      <td>Hotel Arena</td>\n",
       "      <td>Russia</td>\n",
       "      <td>I am so angry that i made this post available...</td>\n",
       "      <td>Only the park outside of the hotel was beauti...</td>\n",
       "      <td>[' Leisure trip ', ' Couple ', ' Duplex Double...</td>\n",
       "      <td>0 days</td>\n",
       "    </tr>\n",
       "    <tr>\n",
       "      <th>1</th>\n",
       "      <td>s Gravesandestraat 55 Oost 1092 AA Amsterdam ...</td>\n",
       "      <td>8/3/2017</td>\n",
       "      <td>Hotel Arena</td>\n",
       "      <td>Ireland</td>\n",
       "      <td>No Negative</td>\n",
       "      <td>No real complaints the hotel was great great ...</td>\n",
       "      <td>[' Leisure trip ', ' Couple ', ' Duplex Double...</td>\n",
       "      <td>0 days</td>\n",
       "    </tr>\n",
       "    <tr>\n",
       "      <th>2</th>\n",
       "      <td>s Gravesandestraat 55 Oost 1092 AA Amsterdam ...</td>\n",
       "      <td>7/31/2017</td>\n",
       "      <td>Hotel Arena</td>\n",
       "      <td>Australia</td>\n",
       "      <td>Rooms are nice but for elderly a bit difficul...</td>\n",
       "      <td>Location was good and staff were ok It is cut...</td>\n",
       "      <td>[' Leisure trip ', ' Family with young childre...</td>\n",
       "      <td>3 days</td>\n",
       "    </tr>\n",
       "    <tr>\n",
       "      <th>3</th>\n",
       "      <td>s Gravesandestraat 55 Oost 1092 AA Amsterdam ...</td>\n",
       "      <td>7/31/2017</td>\n",
       "      <td>Hotel Arena</td>\n",
       "      <td>United Kingdom</td>\n",
       "      <td>My room was dirty and I was afraid to walk ba...</td>\n",
       "      <td>Great location in nice surroundings the bar a...</td>\n",
       "      <td>[' Leisure trip ', ' Solo traveler ', ' Duplex...</td>\n",
       "      <td>3 days</td>\n",
       "    </tr>\n",
       "    <tr>\n",
       "      <th>4</th>\n",
       "      <td>s Gravesandestraat 55 Oost 1092 AA Amsterdam ...</td>\n",
       "      <td>7/24/2017</td>\n",
       "      <td>Hotel Arena</td>\n",
       "      <td>New Zealand</td>\n",
       "      <td>You When I booked with your company on line y...</td>\n",
       "      <td>Amazing location and building Romantic setting</td>\n",
       "      <td>[' Leisure trip ', ' Couple ', ' Suite ', ' St...</td>\n",
       "      <td>10 days</td>\n",
       "    </tr>\n",
       "  </tbody>\n",
       "</table>\n",
       "</div>"
      ],
      "text/plain": [
       "                                       Hotel_Address Review_Date   Hotel_Name  \\\n",
       "0   s Gravesandestraat 55 Oost 1092 AA Amsterdam ...    8/3/2017  Hotel Arena   \n",
       "1   s Gravesandestraat 55 Oost 1092 AA Amsterdam ...    8/3/2017  Hotel Arena   \n",
       "2   s Gravesandestraat 55 Oost 1092 AA Amsterdam ...   7/31/2017  Hotel Arena   \n",
       "3   s Gravesandestraat 55 Oost 1092 AA Amsterdam ...   7/31/2017  Hotel Arena   \n",
       "4   s Gravesandestraat 55 Oost 1092 AA Amsterdam ...   7/24/2017  Hotel Arena   \n",
       "\n",
       "  Reviewer_Nationality                                    Negative_Review  \\\n",
       "0              Russia    I am so angry that i made this post available...   \n",
       "1             Ireland                                         No Negative   \n",
       "2           Australia    Rooms are nice but for elderly a bit difficul...   \n",
       "3      United Kingdom    My room was dirty and I was afraid to walk ba...   \n",
       "4         New Zealand    You When I booked with your company on line y...   \n",
       "\n",
       "                                     Positive_Review  \\\n",
       "0   Only the park outside of the hotel was beauti...   \n",
       "1   No real complaints the hotel was great great ...   \n",
       "2   Location was good and staff were ok It is cut...   \n",
       "3   Great location in nice surroundings the bar a...   \n",
       "4    Amazing location and building Romantic setting    \n",
       "\n",
       "                                                Tags days_since_review  \n",
       "0  [' Leisure trip ', ' Couple ', ' Duplex Double...            0 days  \n",
       "1  [' Leisure trip ', ' Couple ', ' Duplex Double...            0 days  \n",
       "2  [' Leisure trip ', ' Family with young childre...            3 days  \n",
       "3  [' Leisure trip ', ' Solo traveler ', ' Duplex...            3 days  \n",
       "4  [' Leisure trip ', ' Couple ', ' Suite ', ' St...           10 days  "
      ]
     },
     "execution_count": 129,
     "metadata": {},
     "output_type": "execute_result"
    }
   ],
   "source": [
    "# Make a new dataframe of only the categorical columns\n",
    "categorical_df = df.select_dtypes('object').copy()\n",
    "\n",
    "# Check\n",
    "categorical_df.head()"
   ]
  },
  {
   "cell_type": "markdown",
   "id": "a3b452ab",
   "metadata": {},
   "source": [
    "The goal of the dataset is to add sentiment and columns that will help choose the best hotel."
   ]
  },
  {
   "cell_type": "markdown",
   "id": "0291e180",
   "metadata": {},
   "source": [
    "### Hotel Address"
   ]
  },
  {
   "cell_type": "markdown",
   "id": "892a9c0b",
   "metadata": {},
   "source": [
    "I'm going to check the amount of unique values for `Hotel Address`"
   ]
  },
  {
   "cell_type": "code",
   "execution_count": 130,
   "id": "276fe288",
   "metadata": {},
   "outputs": [
    {
     "data": {
      "text/plain": [
       "1493"
      ]
     },
     "execution_count": 130,
     "metadata": {},
     "output_type": "execute_result"
    }
   ],
   "source": [
    "df['Hotel_Address'].nunique()"
   ]
  },
  {
   "cell_type": "markdown",
   "id": "0b1a261a",
   "metadata": {},
   "source": [
    "The addresses are very long, so I'd rather replace `Hotel_Address` values with the name of the city and country."
   ]
  },
  {
   "cell_type": "code",
   "execution_count": 131,
   "id": "e1aaa51d",
   "metadata": {},
   "outputs": [],
   "source": [
    "#Splitting the last two parts of the address column to find out the city and country of each row\n",
    "df[\"Hotel_Address\"]=df[\"Hotel_Address\"].map(lambda x: \" \".join(x.split()[-2:]))"
   ]
  },
  {
   "cell_type": "code",
   "execution_count": 132,
   "id": "a97ee3e6",
   "metadata": {},
   "outputs": [
    {
     "data": {
      "text/plain": [
       "United Kingdom           262298\n",
       "Barcelona Spain           60149\n",
       "Paris France              59413\n",
       "Amsterdam Netherlands     57211\n",
       "Vienna Austria            38937\n",
       "Milan Italy               37204\n",
       "Name: Hotel_Address, dtype: int64"
      ]
     },
     "execution_count": 132,
     "metadata": {},
     "output_type": "execute_result"
    }
   ],
   "source": [
    "#Get the value count of the different cities\n",
    "df[\"Hotel_Address\"].value_counts()"
   ]
  },
  {
   "cell_type": "code",
   "execution_count": 133,
   "id": "4bdcb44e",
   "metadata": {},
   "outputs": [],
   "source": [
    "#Replacing United Kingdom with London, UK\n",
    "df['Hotel_Address'] = df['Hotel_Address'].replace({\"United Kingdom\": \"London UK\"})"
   ]
  },
  {
   "cell_type": "code",
   "execution_count": 134,
   "id": "6a5a1560",
   "metadata": {},
   "outputs": [
    {
     "data": {
      "text/plain": [
       "London UK                262298\n",
       "Barcelona Spain           60149\n",
       "Paris France              59413\n",
       "Amsterdam Netherlands     57211\n",
       "Vienna Austria            38937\n",
       "Milan Italy               37204\n",
       "Name: Hotel_Address, dtype: int64"
      ]
     },
     "execution_count": 134,
     "metadata": {},
     "output_type": "execute_result"
    }
   ],
   "source": [
    "#Check\n",
    "df['Hotel_Address'].value_counts()"
   ]
  },
  {
   "cell_type": "markdown",
   "id": "8a0e7f4f",
   "metadata": {},
   "source": [
    "These are the only cities and countries in the dataset (alphabetical order):\n",
    "\n",
    "Amsterdam, Netherlands\n",
    "\n",
    "Barcelona, Spain\n",
    "\n",
    "London, United Kingdom\n",
    "\n",
    "Milan, Italy\n",
    "\n",
    "Paris, France\n",
    "\n",
    "Vienna, Austria"
   ]
  },
  {
   "cell_type": "code",
   "execution_count": 135,
   "id": "ccbdbc9e",
   "metadata": {},
   "outputs": [],
   "source": [
    "#Replacing the Hotel Addresses with just the city and country they are in and removing the street names\n",
    "def replace_address(row):\n",
    "    if \"Amsterdam\" in row[\"Hotel_Address\"]:\n",
    "        return \"Amsterdam, Netherlands\"\n",
    "    elif \"Barcelona\" in row[\"Hotel_Address\"]:\n",
    "        return \"Barcelona, Spain\"\n",
    "    elif \"United Kingdom\" in row[\"Hotel_Address\"]:\n",
    "        return \"London, United Kingdom\"\n",
    "    elif \"Milan\" in row[\"Hotel_Address\"]:        \n",
    "        return \"Milan, Italy\"\n",
    "    elif \"Paris\" in row[\"Hotel_Address\"]:\n",
    "        return \"Paris, France\"\n",
    "    elif \"Vienna\" in row[\"Hotel_Address\"]:\n",
    "        return \"Vienna, Austria\" \n",
    "    else:\n",
    "        return row.Hotel_Address"
   ]
  },
  {
   "cell_type": "code",
   "execution_count": 136,
   "id": "352a2064",
   "metadata": {},
   "outputs": [],
   "source": [
    "# Replace all the addresses with a shortened, more useful form\n",
    "df[\"Hotel_Address\"] = df.apply(replace_address, axis = 1)"
   ]
  },
  {
   "cell_type": "code",
   "execution_count": 137,
   "id": "ca52fda9",
   "metadata": {},
   "outputs": [
    {
     "name": "stdout",
     "output_type": "stream",
     "text": [
      "London UK                 262298\n",
      "Barcelona, Spain           60149\n",
      "Paris, France              59413\n",
      "Amsterdam, Netherlands     57211\n",
      "Vienna, Austria            38937\n",
      "Milan, Italy               37204\n",
      "Name: Hotel_Address, dtype: int64\n"
     ]
    }
   ],
   "source": [
    "# The sum of the value_counts() should add up to the total number of reviews\n",
    "print(df[\"Hotel_Address\"].value_counts())"
   ]
  },
  {
   "cell_type": "code",
   "execution_count": 138,
   "id": "1625b367",
   "metadata": {},
   "outputs": [
    {
     "data": {
      "text/html": [
       "<div>\n",
       "<style scoped>\n",
       "    .dataframe tbody tr th:only-of-type {\n",
       "        vertical-align: middle;\n",
       "    }\n",
       "\n",
       "    .dataframe tbody tr th {\n",
       "        vertical-align: top;\n",
       "    }\n",
       "\n",
       "    .dataframe thead th {\n",
       "        text-align: right;\n",
       "    }\n",
       "</style>\n",
       "<table border=\"1\" class=\"dataframe\">\n",
       "  <thead>\n",
       "    <tr style=\"text-align: right;\">\n",
       "      <th></th>\n",
       "      <th>Hotel_Address</th>\n",
       "      <th>Hotel_Name</th>\n",
       "    </tr>\n",
       "  </thead>\n",
       "  <tbody>\n",
       "    <tr>\n",
       "      <th>0</th>\n",
       "      <td>Amsterdam, Netherlands</td>\n",
       "      <td>105</td>\n",
       "    </tr>\n",
       "    <tr>\n",
       "      <th>1</th>\n",
       "      <td>Barcelona, Spain</td>\n",
       "      <td>211</td>\n",
       "    </tr>\n",
       "    <tr>\n",
       "      <th>2</th>\n",
       "      <td>London UK</td>\n",
       "      <td>400</td>\n",
       "    </tr>\n",
       "    <tr>\n",
       "      <th>3</th>\n",
       "      <td>Milan, Italy</td>\n",
       "      <td>162</td>\n",
       "    </tr>\n",
       "    <tr>\n",
       "      <th>4</th>\n",
       "      <td>Paris, France</td>\n",
       "      <td>458</td>\n",
       "    </tr>\n",
       "    <tr>\n",
       "      <th>5</th>\n",
       "      <td>Vienna, Austria</td>\n",
       "      <td>158</td>\n",
       "    </tr>\n",
       "  </tbody>\n",
       "</table>\n",
       "</div>"
      ],
      "text/plain": [
       "            Hotel_Address  Hotel_Name\n",
       "0  Amsterdam, Netherlands         105\n",
       "1        Barcelona, Spain         211\n",
       "2               London UK         400\n",
       "3            Milan, Italy         162\n",
       "4           Paris, France         458\n",
       "5         Vienna, Austria         158"
      ]
     },
     "metadata": {},
     "output_type": "display_data"
    }
   ],
   "source": [
    "#Checking to see how many unique hotels show up in each city\n",
    "display(df.groupby(\"Hotel_Address\").agg({\"Hotel_Name\": \"nunique\"}).reset_index())"
   ]
  },
  {
   "cell_type": "markdown",
   "id": "cf2bd103",
   "metadata": {},
   "source": [
    "### Review Date & days since review"
   ]
  },
  {
   "cell_type": "markdown",
   "id": "50dc3263",
   "metadata": {},
   "source": [
    "I'm going to check the amount of unique values for `Review Date` and `days since review` since they should be the same."
   ]
  },
  {
   "cell_type": "code",
   "execution_count": 139,
   "id": "6b8b6d4d",
   "metadata": {},
   "outputs": [
    {
     "data": {
      "text/plain": [
       "731"
      ]
     },
     "execution_count": 139,
     "metadata": {},
     "output_type": "execute_result"
    }
   ],
   "source": [
    "df['Review_Date'].nunique()"
   ]
  },
  {
   "cell_type": "code",
   "execution_count": 140,
   "id": "c4d76669",
   "metadata": {},
   "outputs": [
    {
     "data": {
      "text/plain": [
       "731"
      ]
     },
     "execution_count": 140,
     "metadata": {},
     "output_type": "execute_result"
    }
   ],
   "source": [
    "df['days_since_review'].nunique()"
   ]
  },
  {
   "cell_type": "markdown",
   "id": "bc2afa89",
   "metadata": {},
   "source": [
    "I confirmed their numbers match exactly. These 2 columns are redundant columns since you can figure out the amount of days since the review just by looking at the date the review was written. I would turn the Review_Date into a numeric column and drop the days since review column."
   ]
  },
  {
   "cell_type": "code",
   "execution_count": 141,
   "id": "37295656",
   "metadata": {},
   "outputs": [
    {
     "data": {
      "text/plain": [
       "0          8/3/2017\n",
       "1          8/3/2017\n",
       "2         7/31/2017\n",
       "3         7/31/2017\n",
       "4         7/24/2017\n",
       "            ...    \n",
       "515207    8/30/2015\n",
       "515208    8/22/2015\n",
       "515209    8/19/2015\n",
       "515210    8/17/2015\n",
       "515211     8/9/2015\n",
       "Name: Review_Date, Length: 515212, dtype: object"
      ]
     },
     "execution_count": 141,
     "metadata": {},
     "output_type": "execute_result"
    }
   ],
   "source": [
    "#Check the dates\n",
    "df['Review_Date']"
   ]
  },
  {
   "cell_type": "markdown",
   "id": "b3ee9e9b",
   "metadata": {},
   "source": [
    "Since there are so many unique dates, I'm going to break up the dates to see if there's a way to consolidate the information."
   ]
  },
  {
   "cell_type": "code",
   "execution_count": 142,
   "id": "9d846da0",
   "metadata": {},
   "outputs": [
    {
     "data": {
      "text/html": [
       "<div>\n",
       "<style scoped>\n",
       "    .dataframe tbody tr th:only-of-type {\n",
       "        vertical-align: middle;\n",
       "    }\n",
       "\n",
       "    .dataframe tbody tr th {\n",
       "        vertical-align: top;\n",
       "    }\n",
       "\n",
       "    .dataframe thead th {\n",
       "        text-align: right;\n",
       "    }\n",
       "</style>\n",
       "<table border=\"1\" class=\"dataframe\">\n",
       "  <thead>\n",
       "    <tr style=\"text-align: right;\">\n",
       "      <th></th>\n",
       "      <th>0</th>\n",
       "      <th>1</th>\n",
       "      <th>2</th>\n",
       "    </tr>\n",
       "  </thead>\n",
       "  <tbody>\n",
       "    <tr>\n",
       "      <th>0</th>\n",
       "      <td>8</td>\n",
       "      <td>3</td>\n",
       "      <td>2017</td>\n",
       "    </tr>\n",
       "    <tr>\n",
       "      <th>1</th>\n",
       "      <td>8</td>\n",
       "      <td>3</td>\n",
       "      <td>2017</td>\n",
       "    </tr>\n",
       "    <tr>\n",
       "      <th>2</th>\n",
       "      <td>7</td>\n",
       "      <td>31</td>\n",
       "      <td>2017</td>\n",
       "    </tr>\n",
       "    <tr>\n",
       "      <th>3</th>\n",
       "      <td>7</td>\n",
       "      <td>31</td>\n",
       "      <td>2017</td>\n",
       "    </tr>\n",
       "    <tr>\n",
       "      <th>4</th>\n",
       "      <td>7</td>\n",
       "      <td>24</td>\n",
       "      <td>2017</td>\n",
       "    </tr>\n",
       "    <tr>\n",
       "      <th>...</th>\n",
       "      <td>...</td>\n",
       "      <td>...</td>\n",
       "      <td>...</td>\n",
       "    </tr>\n",
       "    <tr>\n",
       "      <th>515207</th>\n",
       "      <td>8</td>\n",
       "      <td>30</td>\n",
       "      <td>2015</td>\n",
       "    </tr>\n",
       "    <tr>\n",
       "      <th>515208</th>\n",
       "      <td>8</td>\n",
       "      <td>22</td>\n",
       "      <td>2015</td>\n",
       "    </tr>\n",
       "    <tr>\n",
       "      <th>515209</th>\n",
       "      <td>8</td>\n",
       "      <td>19</td>\n",
       "      <td>2015</td>\n",
       "    </tr>\n",
       "    <tr>\n",
       "      <th>515210</th>\n",
       "      <td>8</td>\n",
       "      <td>17</td>\n",
       "      <td>2015</td>\n",
       "    </tr>\n",
       "    <tr>\n",
       "      <th>515211</th>\n",
       "      <td>8</td>\n",
       "      <td>9</td>\n",
       "      <td>2015</td>\n",
       "    </tr>\n",
       "  </tbody>\n",
       "</table>\n",
       "<p>515212 rows × 3 columns</p>\n",
       "</div>"
      ],
      "text/plain": [
       "        0   1     2\n",
       "0       8   3  2017\n",
       "1       8   3  2017\n",
       "2       7  31  2017\n",
       "3       7  31  2017\n",
       "4       7  24  2017\n",
       "...    ..  ..   ...\n",
       "515207  8  30  2015\n",
       "515208  8  22  2015\n",
       "515209  8  19  2015\n",
       "515210  8  17  2015\n",
       "515211  8   9  2015\n",
       "\n",
       "[515212 rows x 3 columns]"
      ]
     },
     "execution_count": 142,
     "metadata": {},
     "output_type": "execute_result"
    }
   ],
   "source": [
    "# Splitting up dates by /\n",
    "date_df = df['Review_Date'].str.split(\"/\", expand=True)\n",
    "date_df"
   ]
  },
  {
   "cell_type": "markdown",
   "id": "e9e5729f",
   "metadata": {},
   "source": [
    "I believe year will have the fewest unique values, I think it's easiest to create a new colum based on the year."
   ]
  },
  {
   "cell_type": "code",
   "execution_count": 143,
   "id": "3a64fef1",
   "metadata": {},
   "outputs": [
    {
     "data": {
      "text/plain": [
       "2016    264153\n",
       "2017    156681\n",
       "2015     94378\n",
       "Name: 2, dtype: int64"
      ]
     },
     "execution_count": 143,
     "metadata": {},
     "output_type": "execute_result"
    }
   ],
   "source": [
    "#Filtering out the years featured in this data\n",
    "date_df[2].value_counts()"
   ]
  },
  {
   "cell_type": "markdown",
   "id": "17d094f0",
   "metadata": {},
   "source": [
    "The dates range from 2015-2017, I will turn `Review Date` column into just the years to make it easier to turn numeric"
   ]
  },
  {
   "cell_type": "code",
   "execution_count": 144,
   "id": "9062a54c",
   "metadata": {},
   "outputs": [],
   "source": [
    "#Turning the Review_Date column into just the years from this dataframe\n",
    "df['Review_Date'] = date_df[2]"
   ]
  },
  {
   "cell_type": "code",
   "execution_count": 145,
   "id": "4655d4d4",
   "metadata": {},
   "outputs": [
    {
     "data": {
      "text/plain": [
       "0         2017\n",
       "1         2017\n",
       "2         2017\n",
       "3         2017\n",
       "4         2017\n",
       "          ... \n",
       "515207    2015\n",
       "515208    2015\n",
       "515209    2015\n",
       "515210    2015\n",
       "515211    2015\n",
       "Name: Review_Date, Length: 515212, dtype: object"
      ]
     },
     "execution_count": 145,
     "metadata": {},
     "output_type": "execute_result"
    }
   ],
   "source": [
    "#Checking to confirm the change has occurred\n",
    "df['Review_Date']"
   ]
  },
  {
   "cell_type": "markdown",
   "id": "ab952471",
   "metadata": {},
   "source": [
    "### Hotel Name"
   ]
  },
  {
   "cell_type": "code",
   "execution_count": 146,
   "id": "b2f670f1",
   "metadata": {},
   "outputs": [
    {
     "data": {
      "text/plain": [
       "1492"
      ]
     },
     "execution_count": 146,
     "metadata": {},
     "output_type": "execute_result"
    }
   ],
   "source": [
    "#Checking to see how many unique hotel names there are.\n",
    "df['Hotel_Name'].nunique()"
   ]
  },
  {
   "cell_type": "code",
   "execution_count": 147,
   "id": "efe8cccb",
   "metadata": {},
   "outputs": [
    {
     "data": {
      "text/plain": [
       "Britannia International Hotel Canary Wharf           4789\n",
       "Strand Palace Hotel                                  4256\n",
       "Park Plaza Westminster Bridge London                 4169\n",
       "Copthorne Tara Hotel London Kensington               3577\n",
       "DoubleTree by Hilton Hotel London Tower of London    3212\n",
       "Grand Royale London Hyde Park                        2958\n",
       "Holiday Inn London Kensington                        2768\n",
       "Hilton London Metropole                              2628\n",
       "Millennium Gloucester Hotel London                   2565\n",
       "Intercontinental London The O2                       2551\n",
       "Park Grand Paddington Court                          2288\n",
       "Hilton London Wembley                                2227\n",
       "Park Plaza County Hall London                        2223\n",
       "Blakemore Hyde Park                                  2178\n",
       "Park Plaza London Riverbank                          2167\n",
       "M by Montcalm Shoreditch London Tech City            2155\n",
       "DoubleTree by Hilton London Docklands Riverside      2147\n",
       "St James Court A Taj Hotel London                    2070\n",
       "Park Grand London Kensington                         2059\n",
       "Hotel Da Vinci                                       1876\n",
       "Name: Hotel_Name, dtype: int64"
      ]
     },
     "execution_count": 147,
     "metadata": {},
     "output_type": "execute_result"
    }
   ],
   "source": [
    "#Checking to see the names of the most prevalant hotel names.\n",
    "df['Hotel_Name'].value_counts().head(20)"
   ]
  },
  {
   "cell_type": "markdown",
   "id": "862744fd",
   "metadata": {},
   "source": [
    "I decided not to include Hotel Name since there are just too many unique hotel names, I won't be able to filter it down to convert this column into numeric without adding hundreds more columns to the dataframe."
   ]
  },
  {
   "cell_type": "markdown",
   "id": "c9933114",
   "metadata": {},
   "source": [
    "### Reviewer Nationality"
   ]
  },
  {
   "cell_type": "code",
   "execution_count": 148,
   "id": "f150e238",
   "metadata": {},
   "outputs": [
    {
     "data": {
      "text/plain": [
       "227"
      ]
     },
     "execution_count": 148,
     "metadata": {},
     "output_type": "execute_result"
    }
   ],
   "source": [
    "#Checking to see how many different nationalities there are.\n",
    "df['Reviewer_Nationality'].nunique()"
   ]
  },
  {
   "cell_type": "code",
   "execution_count": 149,
   "id": "9ec8c3ae",
   "metadata": {},
   "outputs": [
    {
     "data": {
      "text/plain": [
       " United Kingdom               245110\n",
       " United States of America      35349\n",
       " Australia                     21648\n",
       " Ireland                       14814\n",
       " United Arab Emirates          10229\n",
       " Saudi Arabia                   8940\n",
       " Netherlands                    8757\n",
       " Switzerland                    8669\n",
       " Germany                        7929\n",
       " Canada                         7883\n",
       " France                         7265\n",
       " Israel                         6601\n",
       " Italy                          6113\n",
       " Belgium                        6024\n",
       " Turkey                         5440\n",
       " Kuwait                         4915\n",
       " Spain                          4735\n",
       " Romania                        4548\n",
       " Russia                         3898\n",
       " South Africa                   3816\n",
       "Name: Reviewer_Nationality, dtype: int64"
      ]
     },
     "execution_count": 149,
     "metadata": {},
     "output_type": "execute_result"
    }
   ],
   "source": [
    "#Counting the different amount of times each country is mentioned.\n",
    "df['Reviewer_Nationality'].value_counts().head(20)"
   ]
  },
  {
   "cell_type": "markdown",
   "id": "c38cfb9b",
   "metadata": {},
   "source": [
    "I decided not to include Reviewer Nationality, since all these cities are in Europe, this column could be skewed since people from certain countries have easier and closer proximity to these hotels than others. Some countries might have a larger population or people from certain countries are more willing to travel to these particular cities than others as well."
   ]
  },
  {
   "cell_type": "markdown",
   "id": "3943e959",
   "metadata": {},
   "source": [
    "### Tags"
   ]
  },
  {
   "cell_type": "markdown",
   "id": "6d1879d3",
   "metadata": {},
   "source": [
    "I decided to keep the Tags column. The tags provide information about the travellers that can be useful to others who have similar attributes."
   ]
  },
  {
   "cell_type": "code",
   "execution_count": 150,
   "id": "c15000cd",
   "metadata": {},
   "outputs": [
    {
     "data": {
      "text/plain": [
       "0         [' Leisure trip ', ' Couple ', ' Duplex Double...\n",
       "1         [' Leisure trip ', ' Couple ', ' Duplex Double...\n",
       "2         [' Leisure trip ', ' Family with young childre...\n",
       "3         [' Leisure trip ', ' Solo traveler ', ' Duplex...\n",
       "4         [' Leisure trip ', ' Couple ', ' Suite ', ' St...\n",
       "                                ...                        \n",
       "515207    [' Leisure trip ', ' Family with older childre...\n",
       "515208    [' Leisure trip ', ' Family with young childre...\n",
       "515209    [' Leisure trip ', ' Family with older childre...\n",
       "515210    [' Leisure trip ', ' Group ', ' Standard Tripl...\n",
       "515211    [' Leisure trip ', ' Family with young childre...\n",
       "Name: Tags, Length: 515212, dtype: object"
      ]
     },
     "execution_count": 150,
     "metadata": {},
     "output_type": "execute_result"
    }
   ],
   "source": [
    "#Check\n",
    "df['Tags']"
   ]
  },
  {
   "cell_type": "markdown",
   "id": "d304064b",
   "metadata": {},
   "source": [
    "I can tell the data is divided by commas, time to split them into separate columns to make it more readable."
   ]
  },
  {
   "cell_type": "code",
   "execution_count": 151,
   "id": "1afa41ec",
   "metadata": {},
   "outputs": [
    {
     "data": {
      "text/html": [
       "<div>\n",
       "<style scoped>\n",
       "    .dataframe tbody tr th:only-of-type {\n",
       "        vertical-align: middle;\n",
       "    }\n",
       "\n",
       "    .dataframe tbody tr th {\n",
       "        vertical-align: top;\n",
       "    }\n",
       "\n",
       "    .dataframe thead th {\n",
       "        text-align: right;\n",
       "    }\n",
       "</style>\n",
       "<table border=\"1\" class=\"dataframe\">\n",
       "  <thead>\n",
       "    <tr style=\"text-align: right;\">\n",
       "      <th></th>\n",
       "      <th>0</th>\n",
       "      <th>1</th>\n",
       "      <th>2</th>\n",
       "      <th>3</th>\n",
       "      <th>4</th>\n",
       "      <th>5</th>\n",
       "    </tr>\n",
       "  </thead>\n",
       "  <tbody>\n",
       "    <tr>\n",
       "      <th>0</th>\n",
       "      <td>[' Leisure trip '</td>\n",
       "      <td>' Couple '</td>\n",
       "      <td>' Duplex Double Room '</td>\n",
       "      <td>' Stayed 6 nights ']</td>\n",
       "      <td>None</td>\n",
       "      <td>None</td>\n",
       "    </tr>\n",
       "    <tr>\n",
       "      <th>1</th>\n",
       "      <td>[' Leisure trip '</td>\n",
       "      <td>' Couple '</td>\n",
       "      <td>' Duplex Double Room '</td>\n",
       "      <td>' Stayed 4 nights ']</td>\n",
       "      <td>None</td>\n",
       "      <td>None</td>\n",
       "    </tr>\n",
       "    <tr>\n",
       "      <th>2</th>\n",
       "      <td>[' Leisure trip '</td>\n",
       "      <td>' Family with young children '</td>\n",
       "      <td>' Duplex Double Room '</td>\n",
       "      <td>' Stayed 3 nights '</td>\n",
       "      <td>' Submitted from a mobile device ']</td>\n",
       "      <td>None</td>\n",
       "    </tr>\n",
       "    <tr>\n",
       "      <th>3</th>\n",
       "      <td>[' Leisure trip '</td>\n",
       "      <td>' Solo traveler '</td>\n",
       "      <td>' Duplex Double Room '</td>\n",
       "      <td>' Stayed 3 nights ']</td>\n",
       "      <td>None</td>\n",
       "      <td>None</td>\n",
       "    </tr>\n",
       "    <tr>\n",
       "      <th>4</th>\n",
       "      <td>[' Leisure trip '</td>\n",
       "      <td>' Couple '</td>\n",
       "      <td>' Suite '</td>\n",
       "      <td>' Stayed 2 nights '</td>\n",
       "      <td>' Submitted from a mobile device ']</td>\n",
       "      <td>None</td>\n",
       "    </tr>\n",
       "    <tr>\n",
       "      <th>...</th>\n",
       "      <td>...</td>\n",
       "      <td>...</td>\n",
       "      <td>...</td>\n",
       "      <td>...</td>\n",
       "      <td>...</td>\n",
       "      <td>...</td>\n",
       "    </tr>\n",
       "    <tr>\n",
       "      <th>515207</th>\n",
       "      <td>[' Leisure trip '</td>\n",
       "      <td>' Family with older children '</td>\n",
       "      <td>' 2 rooms '</td>\n",
       "      <td>' Stayed 5 nights ']</td>\n",
       "      <td>None</td>\n",
       "      <td>None</td>\n",
       "    </tr>\n",
       "    <tr>\n",
       "      <th>515208</th>\n",
       "      <td>[' Leisure trip '</td>\n",
       "      <td>' Family with young children '</td>\n",
       "      <td>' Standard Triple Room '</td>\n",
       "      <td>' Stayed 2 nights ']</td>\n",
       "      <td>None</td>\n",
       "      <td>None</td>\n",
       "    </tr>\n",
       "    <tr>\n",
       "      <th>515209</th>\n",
       "      <td>[' Leisure trip '</td>\n",
       "      <td>' Family with older children '</td>\n",
       "      <td>' 2 rooms '</td>\n",
       "      <td>' Stayed 4 nights '</td>\n",
       "      <td>' Submitted from a mobile device ']</td>\n",
       "      <td>None</td>\n",
       "    </tr>\n",
       "    <tr>\n",
       "      <th>515210</th>\n",
       "      <td>[' Leisure trip '</td>\n",
       "      <td>' Group '</td>\n",
       "      <td>' Standard Triple Room '</td>\n",
       "      <td>' Stayed 3 nights ']</td>\n",
       "      <td>None</td>\n",
       "      <td>None</td>\n",
       "    </tr>\n",
       "    <tr>\n",
       "      <th>515211</th>\n",
       "      <td>[' Leisure trip '</td>\n",
       "      <td>' Family with young children '</td>\n",
       "      <td>' 2 rooms '</td>\n",
       "      <td>' Stayed 2 nights ']</td>\n",
       "      <td>None</td>\n",
       "      <td>None</td>\n",
       "    </tr>\n",
       "  </tbody>\n",
       "</table>\n",
       "<p>515212 rows × 6 columns</p>\n",
       "</div>"
      ],
      "text/plain": [
       "                        0                               1  \\\n",
       "0       [' Leisure trip '                      ' Couple '   \n",
       "1       [' Leisure trip '                      ' Couple '   \n",
       "2       [' Leisure trip '  ' Family with young children '   \n",
       "3       [' Leisure trip '               ' Solo traveler '   \n",
       "4       [' Leisure trip '                      ' Couple '   \n",
       "...                   ...                             ...   \n",
       "515207  [' Leisure trip '  ' Family with older children '   \n",
       "515208  [' Leisure trip '  ' Family with young children '   \n",
       "515209  [' Leisure trip '  ' Family with older children '   \n",
       "515210  [' Leisure trip '                       ' Group '   \n",
       "515211  [' Leisure trip '  ' Family with young children '   \n",
       "\n",
       "                               2                     3  \\\n",
       "0         ' Duplex Double Room '  ' Stayed 6 nights ']   \n",
       "1         ' Duplex Double Room '  ' Stayed 4 nights ']   \n",
       "2         ' Duplex Double Room '   ' Stayed 3 nights '   \n",
       "3         ' Duplex Double Room '  ' Stayed 3 nights ']   \n",
       "4                      ' Suite '   ' Stayed 2 nights '   \n",
       "...                          ...                   ...   \n",
       "515207               ' 2 rooms '  ' Stayed 5 nights ']   \n",
       "515208  ' Standard Triple Room '  ' Stayed 2 nights ']   \n",
       "515209               ' 2 rooms '   ' Stayed 4 nights '   \n",
       "515210  ' Standard Triple Room '  ' Stayed 3 nights ']   \n",
       "515211               ' 2 rooms '  ' Stayed 2 nights ']   \n",
       "\n",
       "                                          4     5  \n",
       "0                                      None  None  \n",
       "1                                      None  None  \n",
       "2       ' Submitted from a mobile device ']  None  \n",
       "3                                      None  None  \n",
       "4       ' Submitted from a mobile device ']  None  \n",
       "...                                     ...   ...  \n",
       "515207                                 None  None  \n",
       "515208                                 None  None  \n",
       "515209  ' Submitted from a mobile device ']  None  \n",
       "515210                                 None  None  \n",
       "515211                                 None  None  \n",
       "\n",
       "[515212 rows x 6 columns]"
      ]
     },
     "execution_count": 151,
     "metadata": {},
     "output_type": "execute_result"
    }
   ],
   "source": [
    "# Apply split using an accessor\n",
    "tag_df = df['Tags'].str.split(\", \", expand=True)\n",
    "tag_df"
   ]
  },
  {
   "cell_type": "markdown",
   "id": "e1a20199",
   "metadata": {},
   "source": [
    "While the columns are split, the data looks messy, a lot of brackets and quotes in the way, need to remove those."
   ]
  },
  {
   "cell_type": "code",
   "execution_count": 152,
   "id": "3d83d107",
   "metadata": {},
   "outputs": [],
   "source": [
    "# Remove opening and closing brackets\n",
    "df['Tags'] = df['Tags'].str.strip(\"[']\")\n",
    "# remove all quotes too\n",
    "df['Tags'] = df['Tags'].str.replace(\" ', '\", \",\", regex = False)"
   ]
  },
  {
   "cell_type": "code",
   "execution_count": 153,
   "id": "073f9dc2",
   "metadata": {},
   "outputs": [
    {
     "data": {
      "text/html": [
       "<div>\n",
       "<style scoped>\n",
       "    .dataframe tbody tr th:only-of-type {\n",
       "        vertical-align: middle;\n",
       "    }\n",
       "\n",
       "    .dataframe tbody tr th {\n",
       "        vertical-align: top;\n",
       "    }\n",
       "\n",
       "    .dataframe thead th {\n",
       "        text-align: right;\n",
       "    }\n",
       "</style>\n",
       "<table border=\"1\" class=\"dataframe\">\n",
       "  <thead>\n",
       "    <tr style=\"text-align: right;\">\n",
       "      <th></th>\n",
       "      <th>0</th>\n",
       "      <th>1</th>\n",
       "      <th>2</th>\n",
       "      <th>3</th>\n",
       "      <th>4</th>\n",
       "      <th>5</th>\n",
       "    </tr>\n",
       "  </thead>\n",
       "  <tbody>\n",
       "    <tr>\n",
       "      <th>0</th>\n",
       "      <td>Leisure trip</td>\n",
       "      <td>Couple</td>\n",
       "      <td>Duplex Double Room</td>\n",
       "      <td>Stayed 6 nights</td>\n",
       "      <td>None</td>\n",
       "      <td>None</td>\n",
       "    </tr>\n",
       "    <tr>\n",
       "      <th>1</th>\n",
       "      <td>Leisure trip</td>\n",
       "      <td>Couple</td>\n",
       "      <td>Duplex Double Room</td>\n",
       "      <td>Stayed 4 nights</td>\n",
       "      <td>None</td>\n",
       "      <td>None</td>\n",
       "    </tr>\n",
       "    <tr>\n",
       "      <th>2</th>\n",
       "      <td>Leisure trip</td>\n",
       "      <td>Family with young children</td>\n",
       "      <td>Duplex Double Room</td>\n",
       "      <td>Stayed 3 nights</td>\n",
       "      <td>Submitted from a mobile device</td>\n",
       "      <td>None</td>\n",
       "    </tr>\n",
       "    <tr>\n",
       "      <th>3</th>\n",
       "      <td>Leisure trip</td>\n",
       "      <td>Solo traveler</td>\n",
       "      <td>Duplex Double Room</td>\n",
       "      <td>Stayed 3 nights</td>\n",
       "      <td>None</td>\n",
       "      <td>None</td>\n",
       "    </tr>\n",
       "    <tr>\n",
       "      <th>4</th>\n",
       "      <td>Leisure trip</td>\n",
       "      <td>Couple</td>\n",
       "      <td>Suite</td>\n",
       "      <td>Stayed 2 nights</td>\n",
       "      <td>Submitted from a mobile device</td>\n",
       "      <td>None</td>\n",
       "    </tr>\n",
       "    <tr>\n",
       "      <th>...</th>\n",
       "      <td>...</td>\n",
       "      <td>...</td>\n",
       "      <td>...</td>\n",
       "      <td>...</td>\n",
       "      <td>...</td>\n",
       "      <td>...</td>\n",
       "    </tr>\n",
       "    <tr>\n",
       "      <th>515207</th>\n",
       "      <td>Leisure trip</td>\n",
       "      <td>Family with older children</td>\n",
       "      <td>2 rooms</td>\n",
       "      <td>Stayed 5 nights</td>\n",
       "      <td>None</td>\n",
       "      <td>None</td>\n",
       "    </tr>\n",
       "    <tr>\n",
       "      <th>515208</th>\n",
       "      <td>Leisure trip</td>\n",
       "      <td>Family with young children</td>\n",
       "      <td>Standard Triple Room</td>\n",
       "      <td>Stayed 2 nights</td>\n",
       "      <td>None</td>\n",
       "      <td>None</td>\n",
       "    </tr>\n",
       "    <tr>\n",
       "      <th>515209</th>\n",
       "      <td>Leisure trip</td>\n",
       "      <td>Family with older children</td>\n",
       "      <td>2 rooms</td>\n",
       "      <td>Stayed 4 nights</td>\n",
       "      <td>Submitted from a mobile device</td>\n",
       "      <td>None</td>\n",
       "    </tr>\n",
       "    <tr>\n",
       "      <th>515210</th>\n",
       "      <td>Leisure trip</td>\n",
       "      <td>Group</td>\n",
       "      <td>Standard Triple Room</td>\n",
       "      <td>Stayed 3 nights</td>\n",
       "      <td>None</td>\n",
       "      <td>None</td>\n",
       "    </tr>\n",
       "    <tr>\n",
       "      <th>515211</th>\n",
       "      <td>Leisure trip</td>\n",
       "      <td>Family with young children</td>\n",
       "      <td>2 rooms</td>\n",
       "      <td>Stayed 2 nights</td>\n",
       "      <td>None</td>\n",
       "      <td>None</td>\n",
       "    </tr>\n",
       "  </tbody>\n",
       "</table>\n",
       "<p>515212 rows × 6 columns</p>\n",
       "</div>"
      ],
      "text/plain": [
       "                    0                           1                     2  \\\n",
       "0        Leisure trip                      Couple    Duplex Double Room   \n",
       "1        Leisure trip                      Couple    Duplex Double Room   \n",
       "2        Leisure trip  Family with young children    Duplex Double Room   \n",
       "3        Leisure trip               Solo traveler    Duplex Double Room   \n",
       "4        Leisure trip                      Couple                 Suite   \n",
       "...               ...                         ...                   ...   \n",
       "515207   Leisure trip  Family with older children               2 rooms   \n",
       "515208   Leisure trip  Family with young children  Standard Triple Room   \n",
       "515209   Leisure trip  Family with older children               2 rooms   \n",
       "515210   Leisure trip                       Group  Standard Triple Room   \n",
       "515211   Leisure trip  Family with young children               2 rooms   \n",
       "\n",
       "                       3                                4     5  \n",
       "0       Stayed 6 nights                              None  None  \n",
       "1       Stayed 4 nights                              None  None  \n",
       "2        Stayed 3 nights  Submitted from a mobile device   None  \n",
       "3       Stayed 3 nights                              None  None  \n",
       "4        Stayed 2 nights  Submitted from a mobile device   None  \n",
       "...                  ...                              ...   ...  \n",
       "515207  Stayed 5 nights                              None  None  \n",
       "515208  Stayed 2 nights                              None  None  \n",
       "515209   Stayed 4 nights  Submitted from a mobile device   None  \n",
       "515210  Stayed 3 nights                              None  None  \n",
       "515211  Stayed 2 nights                              None  None  \n",
       "\n",
       "[515212 rows x 6 columns]"
      ]
     },
     "execution_count": 153,
     "metadata": {},
     "output_type": "execute_result"
    }
   ],
   "source": [
    "#Checking the dataframe and splitting the commas again, hopefully the dataframe looks neater now.\n",
    "tag_df = df['Tags'].str.split(\", \", expand=True)\n",
    "tag_df"
   ]
  },
  {
   "cell_type": "markdown",
   "id": "c208b763",
   "metadata": {},
   "source": [
    "Each columns appears to provide different information describing the type of stay each guest had.\n",
    "\n",
    "- First column describes the type of trip.\n",
    "- Second column describes the type of guest.\n",
    "- Third column describes the type of room.\n",
    "- Fourth column desribes the length of stay.\n",
    "- Fifth column describes whether room was reserved by mobile device or not\n",
    "- Sixth column is an extra column that sometimes mentions if room was reserved by mobile device or not"
   ]
  },
  {
   "cell_type": "markdown",
   "id": "f4b0b343",
   "metadata": {},
   "source": [
    "I'm curious to see the categories listed in each column"
   ]
  },
  {
   "cell_type": "code",
   "execution_count": 154,
   "id": "e209bb95",
   "metadata": {},
   "outputs": [
    {
     "data": {
      "text/plain": [
       " Leisure trip                   416249\n",
       " Business trip                   82662\n",
       " Couple                           5801\n",
       " Solo traveler                    4282\n",
       " Family with young children       2223\n",
       " Group                            1598\n",
       " With a pet                       1405\n",
       " Family with older children        930\n",
       " Travelers with friends             56\n",
       " Couple                              3\n",
       " Group                               2\n",
       " Family with young children          1\n",
       "Name: 0, dtype: int64"
      ]
     },
     "execution_count": 154,
     "metadata": {},
     "output_type": "execute_result"
    }
   ],
   "source": [
    "tag_df[0].value_counts()"
   ]
  },
  {
   "cell_type": "code",
   "execution_count": 155,
   "id": "81329f4f",
   "metadata": {},
   "outputs": [
    {
     "data": {
      "text/plain": [
       "Couple                                       245469\n",
       "Solo traveler                                103955\n",
       "Group                                         63595\n",
       "Family with young children                    58536\n",
       "Family with older children                    25298\n",
       "                                              ...  \n",
       "Superior Room with King Bed                       1\n",
       "Halkin Room                                       1\n",
       "Twin Hilton Deluxe Room                           1\n",
       "Superior Twin Room with Eiffel Tower View         1\n",
       "Superior King                                     1\n",
       "Name: 1, Length: 1030, dtype: int64"
      ]
     },
     "execution_count": 155,
     "metadata": {},
     "output_type": "execute_result"
    }
   ],
   "source": [
    "tag_df[1].value_counts()"
   ]
  },
  {
   "cell_type": "code",
   "execution_count": 156,
   "id": "711f3443",
   "metadata": {},
   "outputs": [
    {
     "data": {
      "text/plain": [
       "Double Room                                            34027\n",
       "Standard Double Room                                   31239\n",
       "Superior Double Room                                   30399\n",
       "Deluxe Double Room                                     23982\n",
       "Double or Twin Room                                    21732\n",
       "                                                       ...  \n",
       "Stayed 30 nights                                           1\n",
       "One Bedroom Apsley Suite                                   1\n",
       "King Room with Disability Access Non Smoking               1\n",
       "King Suite Non Smoking with Executive Lounge Access        1\n",
       "Courtyard Suite with St Stephen s Cathedral view           1\n",
       "Name: 2, Length: 2434, dtype: int64"
      ]
     },
     "execution_count": 156,
     "metadata": {},
     "output_type": "execute_result"
    }
   ],
   "source": [
    "tag_df[2].value_counts()"
   ]
  },
  {
   "cell_type": "code",
   "execution_count": 157,
   "id": "c5cf6bc9",
   "metadata": {},
   "outputs": [
    {
     "data": {
      "text/plain": [
       "Stayed 1 night                                                          112739\n",
       "Stayed 2 nights                                                          77487\n",
       "Stayed 1 night                                                           73633\n",
       "Stayed 3 nights                                                          55086\n",
       "Stayed 2 nights                                                          52646\n",
       "                                                                         ...  \n",
       "Double or Twin Ground Floor                                                  1\n",
       "Duplex Junior Suite with Spa access                                          1\n",
       "Double Room with Free Airport Shuttle Service from 5 00am to 00 30am         1\n",
       "Twin Room Disability Access                                                  1\n",
       "Classic Queen Room                                                           1\n",
       "Name: 3, Length: 358, dtype: int64"
      ]
     },
     "execution_count": 157,
     "metadata": {},
     "output_type": "execute_result"
    }
   ],
   "source": [
    "tag_df[3].value_counts()"
   ]
  },
  {
   "cell_type": "code",
   "execution_count": 158,
   "id": "6448fe96",
   "metadata": {},
   "outputs": [
    {
     "data": {
      "text/plain": [
       "Submitted from a mobile device     297008\n",
       "Stayed 1 night                        311\n",
       "Stayed 1 night                        241\n",
       "Stayed 2 nights                       197\n",
       "Stayed 2 nights                       145\n",
       "Stayed 3 nights                       127\n",
       "Stayed 3 nights                        99\n",
       "Stayed 4 nights                        59\n",
       "Stayed 4 nights                        28\n",
       "Stayed 5 nights                        28\n",
       "Stayed 5 nights                        16\n",
       "Stayed 7 nights                        11\n",
       "Stayed 6 nights                        10\n",
       "Stayed 6 nights                         5\n",
       "Stayed 7 nights                         4\n",
       "Stayed 8 nights                         3\n",
       "Stayed 9 nights                         2\n",
       "Stayed 11 nights                        2\n",
       "Stayed 10 nights                        2\n",
       "Stayed 14 nights                        1\n",
       "Stayed 18 nights                        1\n",
       "Stayed 9 nights                         1\n",
       "Stayed 20 nights                        1\n",
       "Stayed 14 nights                        1\n",
       "Name: 4, dtype: int64"
      ]
     },
     "execution_count": 158,
     "metadata": {},
     "output_type": "execute_result"
    }
   ],
   "source": [
    "tag_df[4].value_counts()"
   ]
  },
  {
   "cell_type": "code",
   "execution_count": 159,
   "id": "bf42d9b5",
   "metadata": {},
   "outputs": [
    {
     "data": {
      "text/plain": [
       "Submitted from a mobile device     755\n",
       "Name: 5, dtype: int64"
      ]
     },
     "execution_count": 159,
     "metadata": {},
     "output_type": "execute_result"
    }
   ],
   "source": [
    "tag_df[5].value_counts()"
   ]
  },
  {
   "cell_type": "markdown",
   "id": "12fd3c83",
   "metadata": {},
   "source": [
    "Here, I find a problem. Some reviews, or rows, have different amount of columns, some have 5 columns, some 3 and others 6. This leads to some data that is prevelant in one column, to shows up in a different column.\n",
    "\n",
    "For example, the 2nd column is predominantly showcasing the group type such as couple, solo traveler, group. However, that data also appears in the first column and less frequently, which is not what we want.\n",
    "\n",
    "This is a result of how the dataset was created, and hard to fix. We want to get a frequency count of each phrase, but they are in different order in each review, so the count might be off, and a hotel might not get a tag assigned to it that it deserved."
   ]
  },
  {
   "cell_type": "markdown",
   "id": "59f42a58",
   "metadata": {},
   "source": [
    "The simplest way to clean this up is to create 6 temporary columns with each tag inserted in to the column corresponding to its order in the tag. Then merge the 6 columns into one big column and run the value_counts() method on the resulting column. "
   ]
  },
  {
   "cell_type": "code",
   "execution_count": 160,
   "id": "834d763b",
   "metadata": {},
   "outputs": [],
   "source": [
    "# Remove leading and trailing spaces\n",
    "df[\"Tag_1\"] = tag_df[0].str.strip()\n",
    "df[\"Tag_2\"] = tag_df[1].str.strip()\n",
    "df[\"Tag_3\"] = tag_df[2].str.strip()\n",
    "df[\"Tag_4\"] = tag_df[3].str.strip()\n",
    "df[\"Tag_5\"] = tag_df[4].str.strip()\n",
    "df[\"Tag_6\"] = tag_df[5].str.strip()"
   ]
  },
  {
   "cell_type": "code",
   "execution_count": 161,
   "id": "1ebd498c",
   "metadata": {},
   "outputs": [],
   "source": [
    "# Merge the 6 columns into one with melt\n",
    "df_tags = df.melt(value_vars=[\"Tag_1\", \"Tag_2\", \"Tag_3\", \"Tag_4\", \"Tag_5\", \"Tag_6\"])"
   ]
  },
  {
   "cell_type": "code",
   "execution_count": 162,
   "id": "db44753e",
   "metadata": {},
   "outputs": [
    {
     "data": {
      "text/plain": [
       "Leisure trip                      417355\n",
       "Submitted from a mobile device    307355\n",
       "Couple                            252005\n",
       "Stayed 1 night                    193497\n",
       "Stayed 2 nights                   133809\n",
       "Solo traveler                     108431\n",
       "Stayed 3 nights                    95706\n",
       "Business trip                      82853\n",
       "Group                              65338\n",
       "Family with young children         60975\n",
       "Stayed 4 nights                    47750\n",
       "Double Room                        35207\n",
       "Standard Double Room               32245\n",
       "Superior Double Room               31331\n",
       "Family with older children         26320\n",
       "Deluxe Double Room                 24804\n",
       "Double or Twin Room                22393\n",
       "Stayed 5 nights                    20818\n",
       "Standard Double or Twin Room       17463\n",
       "Classic Double Room                16790\n",
       "Name: value, dtype: int64"
      ]
     },
     "execution_count": 162,
     "metadata": {},
     "output_type": "execute_result"
    }
   ],
   "source": [
    "#Get the value count of the most popular tags\n",
    "df_tags.value.value_counts().head(20)"
   ]
  },
  {
   "cell_type": "markdown",
   "id": "ce003213",
   "metadata": {},
   "source": [
    "We need to ask ourselves which tags are useful or not in the final dataset."
   ]
  },
  {
   "cell_type": "markdown",
   "id": "53f11672",
   "metadata": {},
   "source": [
    "- The type of trip is relevant and that should stay\n",
    "\n",
    "- The type of guest is important and that should stay\n",
    "\n",
    "- The type of room or suite that the guest stayed in can go. There's too many unique tags that describe the room type and too difficult to differentiate whether room type affects satisfaction.\n",
    "\n",
    "- The device the review was submitted on is irrelevant\n",
    "\n",
    "- The number of nights reviewer stayed is likely irrelevant, most guests already plan on how long they are going to stay and typically just pick one hotel for the duration of their trip for convenience, so length of stay isn't very insightful."
   ]
  },
  {
   "cell_type": "code",
   "execution_count": 163,
   "id": "e661a4f5",
   "metadata": {},
   "outputs": [
    {
     "name": "stdout",
     "output_type": "stream",
     "text": [
      "The shape of the tags with no filtering: (3091272, 2)\n",
      "                        index   count\n",
      "0                Leisure trip  417355\n",
      "1                      Couple  252005\n",
      "2               Solo traveler  108431\n",
      "3               Business trip   82853\n",
      "4                       Group   65338\n",
      "5  Family with young children   60975\n",
      "6  Family with older children   26320\n",
      "7      Travelers with friends    2143\n",
      "8                  With a pet    1405\n"
     ]
    }
   ],
   "source": [
    "# print(shape)\n",
    "print(\"The shape of the tags with no filtering:\", str(df_tags.shape))\n",
    "# Drop rooms, suites, and length of stay, mobile device and anything with less count than a 1000\n",
    "df_tags = df_tags[~df_tags.value.str.contains(\"Standard|room|Stayed|device|Beds|Suite|Studio|King|Superior|Double\", na=False, case=False)]\n",
    "tag_vc = df_tags.value.value_counts().reset_index(name=\"count\").query(\"count > 1000\")\n",
    "# Print the top 10 (there should only be 9 and we'll use these in the filtering section)\n",
    "print(tag_vc[:10])"
   ]
  },
  {
   "cell_type": "code",
   "execution_count": 164,
   "id": "784dc881",
   "metadata": {},
   "outputs": [],
   "source": [
    "# Process the Tags into new columns\n",
    "# Leisure trip, Couple, Solo traveler, Business trip, Group combined with Travelers with friends, \n",
    "# Family with young children, Family with older children, With a pet\n",
    "df[\"Leisure_trip\"] = df.Tags.apply(lambda tag: 1 if \"Leisure trip\" in tag else 0)\n",
    "df[\"Couple\"] = df.Tags.apply(lambda tag: 1 if \"Couple\" in tag else 0)\n",
    "df[\"Solo_traveler\"] = df.Tags.apply(lambda tag: 1 if \"Solo traveler\" in tag else 0)\n",
    "df[\"Business_trip\"] = df.Tags.apply(lambda tag: 1 if \"Business trip\" in tag else 0)\n",
    "df[\"Group\"] = df.Tags.apply(lambda tag: 1 if \"Group\" in tag or \"Travelers with friends\" in tag else 0)\n",
    "df[\"Family_with_young_children\"] = df.Tags.apply(lambda tag: 1 if \"Family with young children\" in tag else 0)\n",
    "df[\"Family_with_older_children\"] = df.Tags.apply(lambda tag: 1 if \"Family with older children\" in tag else 0)\n",
    "df[\"With_a_pet\"] = df.Tags.apply(lambda tag: 1 if \"With a pet\" in tag else 0)"
   ]
  },
  {
   "cell_type": "markdown",
   "id": "517bde66",
   "metadata": {},
   "source": [
    "I'm going to check the value counts for some of these new columns to see the outcome."
   ]
  },
  {
   "cell_type": "code",
   "execution_count": 165,
   "id": "1cbf65d3",
   "metadata": {},
   "outputs": [
    {
     "data": {
      "text/plain": [
       "1    417355\n",
       "0     97857\n",
       "Name: Leisure_trip, dtype: int64"
      ]
     },
     "execution_count": 165,
     "metadata": {},
     "output_type": "execute_result"
    }
   ],
   "source": [
    "df[\"Leisure_trip\"].value_counts()"
   ]
  },
  {
   "cell_type": "code",
   "execution_count": 166,
   "id": "01cd161e",
   "metadata": {},
   "outputs": [
    {
     "data": {
      "text/plain": [
       "0    263207\n",
       "1    252005\n",
       "Name: Couple, dtype: int64"
      ]
     },
     "execution_count": 166,
     "metadata": {},
     "output_type": "execute_result"
    }
   ],
   "source": [
    "df[\"Couple\"].value_counts()"
   ]
  },
  {
   "cell_type": "code",
   "execution_count": 167,
   "id": "c7771aa1",
   "metadata": {},
   "outputs": [
    {
     "data": {
      "text/plain": [
       "0    454237\n",
       "1     60975\n",
       "Name: Family_with_young_children, dtype: int64"
      ]
     },
     "execution_count": 167,
     "metadata": {},
     "output_type": "execute_result"
    }
   ],
   "source": [
    "df[\"Family_with_young_children\"].value_counts()"
   ]
  },
  {
   "cell_type": "markdown",
   "id": "86f770e2",
   "metadata": {},
   "source": [
    "Running the value counts for some of the new columns shows that each of the columns are now binary."
   ]
  },
  {
   "cell_type": "markdown",
   "id": "2472431c",
   "metadata": {},
   "source": [
    "Since I created the 8 new columns, I'm going to drop the 6 temporary columns I created earlier."
   ]
  },
  {
   "cell_type": "code",
   "execution_count": 168,
   "id": "766c70d8",
   "metadata": {},
   "outputs": [],
   "source": [
    "#Dropping the 6 temp columns\n",
    "df.drop(['Tag_1', 'Tag_2', 'Tag_3', 'Tag_4', 'Tag_5', 'Tag_6'], axis=1, inplace=True)"
   ]
  },
  {
   "cell_type": "code",
   "execution_count": 169,
   "id": "ece810d6",
   "metadata": {},
   "outputs": [
    {
     "data": {
      "text/html": [
       "<div>\n",
       "<style scoped>\n",
       "    .dataframe tbody tr th:only-of-type {\n",
       "        vertical-align: middle;\n",
       "    }\n",
       "\n",
       "    .dataframe tbody tr th {\n",
       "        vertical-align: top;\n",
       "    }\n",
       "\n",
       "    .dataframe thead th {\n",
       "        text-align: right;\n",
       "    }\n",
       "</style>\n",
       "<table border=\"1\" class=\"dataframe\">\n",
       "  <thead>\n",
       "    <tr style=\"text-align: right;\">\n",
       "      <th></th>\n",
       "      <th>Hotel_Address</th>\n",
       "      <th>Additional_Number_of_Scoring</th>\n",
       "      <th>Review_Date</th>\n",
       "      <th>Average_Score</th>\n",
       "      <th>Hotel_Name</th>\n",
       "      <th>Reviewer_Nationality</th>\n",
       "      <th>Negative_Review</th>\n",
       "      <th>Review_Total_Negative_Word_Counts</th>\n",
       "      <th>Total_Number_of_Reviews</th>\n",
       "      <th>Positive_Review</th>\n",
       "      <th>Review_Total_Positive_Word_Counts</th>\n",
       "      <th>Total_Number_of_Reviews_Reviewer_Has_Given</th>\n",
       "      <th>Reviewer_Score</th>\n",
       "      <th>Tags</th>\n",
       "      <th>days_since_review</th>\n",
       "      <th>Leisure_trip</th>\n",
       "      <th>Couple</th>\n",
       "      <th>Solo_traveler</th>\n",
       "      <th>Business_trip</th>\n",
       "      <th>Group</th>\n",
       "      <th>Family_with_young_children</th>\n",
       "      <th>Family_with_older_children</th>\n",
       "      <th>With_a_pet</th>\n",
       "    </tr>\n",
       "  </thead>\n",
       "  <tbody>\n",
       "    <tr>\n",
       "      <th>0</th>\n",
       "      <td>Amsterdam, Netherlands</td>\n",
       "      <td>194</td>\n",
       "      <td>2017</td>\n",
       "      <td>7.7</td>\n",
       "      <td>Hotel Arena</td>\n",
       "      <td>Russia</td>\n",
       "      <td>I am so angry that i made this post available...</td>\n",
       "      <td>397</td>\n",
       "      <td>1403</td>\n",
       "      <td>Only the park outside of the hotel was beauti...</td>\n",
       "      <td>11</td>\n",
       "      <td>7</td>\n",
       "      <td>3</td>\n",
       "      <td>Leisure trip, Couple, Duplex Double Room, Sta...</td>\n",
       "      <td>0 days</td>\n",
       "      <td>1</td>\n",
       "      <td>1</td>\n",
       "      <td>0</td>\n",
       "      <td>0</td>\n",
       "      <td>0</td>\n",
       "      <td>0</td>\n",
       "      <td>0</td>\n",
       "      <td>0</td>\n",
       "    </tr>\n",
       "    <tr>\n",
       "      <th>1</th>\n",
       "      <td>Amsterdam, Netherlands</td>\n",
       "      <td>194</td>\n",
       "      <td>2017</td>\n",
       "      <td>7.7</td>\n",
       "      <td>Hotel Arena</td>\n",
       "      <td>Ireland</td>\n",
       "      <td>No Negative</td>\n",
       "      <td>0</td>\n",
       "      <td>1403</td>\n",
       "      <td>No real complaints the hotel was great great ...</td>\n",
       "      <td>105</td>\n",
       "      <td>7</td>\n",
       "      <td>8</td>\n",
       "      <td>Leisure trip, Couple, Duplex Double Room, Sta...</td>\n",
       "      <td>0 days</td>\n",
       "      <td>1</td>\n",
       "      <td>1</td>\n",
       "      <td>0</td>\n",
       "      <td>0</td>\n",
       "      <td>0</td>\n",
       "      <td>0</td>\n",
       "      <td>0</td>\n",
       "      <td>0</td>\n",
       "    </tr>\n",
       "    <tr>\n",
       "      <th>2</th>\n",
       "      <td>Amsterdam, Netherlands</td>\n",
       "      <td>194</td>\n",
       "      <td>2017</td>\n",
       "      <td>7.7</td>\n",
       "      <td>Hotel Arena</td>\n",
       "      <td>Australia</td>\n",
       "      <td>Rooms are nice but for elderly a bit difficul...</td>\n",
       "      <td>42</td>\n",
       "      <td>1403</td>\n",
       "      <td>Location was good and staff were ok It is cut...</td>\n",
       "      <td>21</td>\n",
       "      <td>9</td>\n",
       "      <td>7</td>\n",
       "      <td>Leisure trip, Family with young children, Dup...</td>\n",
       "      <td>3 days</td>\n",
       "      <td>1</td>\n",
       "      <td>0</td>\n",
       "      <td>0</td>\n",
       "      <td>0</td>\n",
       "      <td>0</td>\n",
       "      <td>1</td>\n",
       "      <td>0</td>\n",
       "      <td>0</td>\n",
       "    </tr>\n",
       "    <tr>\n",
       "      <th>3</th>\n",
       "      <td>Amsterdam, Netherlands</td>\n",
       "      <td>194</td>\n",
       "      <td>2017</td>\n",
       "      <td>7.7</td>\n",
       "      <td>Hotel Arena</td>\n",
       "      <td>United Kingdom</td>\n",
       "      <td>My room was dirty and I was afraid to walk ba...</td>\n",
       "      <td>210</td>\n",
       "      <td>1403</td>\n",
       "      <td>Great location in nice surroundings the bar a...</td>\n",
       "      <td>26</td>\n",
       "      <td>1</td>\n",
       "      <td>4</td>\n",
       "      <td>Leisure trip, Solo traveler, Duplex Double Ro...</td>\n",
       "      <td>3 days</td>\n",
       "      <td>1</td>\n",
       "      <td>0</td>\n",
       "      <td>1</td>\n",
       "      <td>0</td>\n",
       "      <td>0</td>\n",
       "      <td>0</td>\n",
       "      <td>0</td>\n",
       "      <td>0</td>\n",
       "    </tr>\n",
       "    <tr>\n",
       "      <th>4</th>\n",
       "      <td>Amsterdam, Netherlands</td>\n",
       "      <td>194</td>\n",
       "      <td>2017</td>\n",
       "      <td>7.7</td>\n",
       "      <td>Hotel Arena</td>\n",
       "      <td>New Zealand</td>\n",
       "      <td>You When I booked with your company on line y...</td>\n",
       "      <td>140</td>\n",
       "      <td>1403</td>\n",
       "      <td>Amazing location and building Romantic setting</td>\n",
       "      <td>8</td>\n",
       "      <td>3</td>\n",
       "      <td>7</td>\n",
       "      <td>Leisure trip, Couple, Suite, Stayed 2 nights,...</td>\n",
       "      <td>10 days</td>\n",
       "      <td>1</td>\n",
       "      <td>1</td>\n",
       "      <td>0</td>\n",
       "      <td>0</td>\n",
       "      <td>0</td>\n",
       "      <td>0</td>\n",
       "      <td>0</td>\n",
       "      <td>0</td>\n",
       "    </tr>\n",
       "  </tbody>\n",
       "</table>\n",
       "</div>"
      ],
      "text/plain": [
       "            Hotel_Address  Additional_Number_of_Scoring Review_Date  \\\n",
       "0  Amsterdam, Netherlands                           194        2017   \n",
       "1  Amsterdam, Netherlands                           194        2017   \n",
       "2  Amsterdam, Netherlands                           194        2017   \n",
       "3  Amsterdam, Netherlands                           194        2017   \n",
       "4  Amsterdam, Netherlands                           194        2017   \n",
       "\n",
       "   Average_Score   Hotel_Name Reviewer_Nationality  \\\n",
       "0            7.7  Hotel Arena              Russia    \n",
       "1            7.7  Hotel Arena             Ireland    \n",
       "2            7.7  Hotel Arena           Australia    \n",
       "3            7.7  Hotel Arena      United Kingdom    \n",
       "4            7.7  Hotel Arena         New Zealand    \n",
       "\n",
       "                                     Negative_Review  \\\n",
       "0   I am so angry that i made this post available...   \n",
       "1                                        No Negative   \n",
       "2   Rooms are nice but for elderly a bit difficul...   \n",
       "3   My room was dirty and I was afraid to walk ba...   \n",
       "4   You When I booked with your company on line y...   \n",
       "\n",
       "   Review_Total_Negative_Word_Counts  Total_Number_of_Reviews  \\\n",
       "0                                397                     1403   \n",
       "1                                  0                     1403   \n",
       "2                                 42                     1403   \n",
       "3                                210                     1403   \n",
       "4                                140                     1403   \n",
       "\n",
       "                                     Positive_Review  \\\n",
       "0   Only the park outside of the hotel was beauti...   \n",
       "1   No real complaints the hotel was great great ...   \n",
       "2   Location was good and staff were ok It is cut...   \n",
       "3   Great location in nice surroundings the bar a...   \n",
       "4    Amazing location and building Romantic setting    \n",
       "\n",
       "   Review_Total_Positive_Word_Counts  \\\n",
       "0                                 11   \n",
       "1                                105   \n",
       "2                                 21   \n",
       "3                                 26   \n",
       "4                                  8   \n",
       "\n",
       "   Total_Number_of_Reviews_Reviewer_Has_Given  Reviewer_Score  \\\n",
       "0                                           7               3   \n",
       "1                                           7               8   \n",
       "2                                           9               7   \n",
       "3                                           1               4   \n",
       "4                                           3               7   \n",
       "\n",
       "                                                Tags days_since_review  \\\n",
       "0   Leisure trip, Couple, Duplex Double Room, Sta...            0 days   \n",
       "1   Leisure trip, Couple, Duplex Double Room, Sta...            0 days   \n",
       "2   Leisure trip, Family with young children, Dup...            3 days   \n",
       "3   Leisure trip, Solo traveler, Duplex Double Ro...            3 days   \n",
       "4   Leisure trip, Couple, Suite, Stayed 2 nights,...           10 days   \n",
       "\n",
       "   Leisure_trip  Couple  Solo_traveler  Business_trip  Group  \\\n",
       "0             1       1              0              0      0   \n",
       "1             1       1              0              0      0   \n",
       "2             1       0              0              0      0   \n",
       "3             1       0              1              0      0   \n",
       "4             1       1              0              0      0   \n",
       "\n",
       "   Family_with_young_children  Family_with_older_children  With_a_pet  \n",
       "0                           0                           0           0  \n",
       "1                           0                           0           0  \n",
       "2                           1                           0           0  \n",
       "3                           0                           0           0  \n",
       "4                           0                           0           0  "
      ]
     },
     "execution_count": 169,
     "metadata": {},
     "output_type": "execute_result"
    }
   ],
   "source": [
    "#Checking to see that the new tag columns I created are added to the dataframe\n",
    "df.head()"
   ]
  },
  {
   "cell_type": "markdown",
   "id": "41216234",
   "metadata": {},
   "source": [
    "### Data Wrangling"
   ]
  },
  {
   "cell_type": "markdown",
   "id": "449d2974",
   "metadata": {},
   "source": [
    "Question 3a: Convert the Reviewer_Score column into a binary column in the following way. Reviews that are below 9 should be encoded as 0 ('not good') and reviews with scores 9 and 10 as 1 ('good')."
   ]
  },
  {
   "cell_type": "code",
   "execution_count": 170,
   "id": "bf4a1b70",
   "metadata": {},
   "outputs": [],
   "source": [
    "#Creating a new binary column\n",
    "df['Good or Not Good'] = np.where(df['Reviewer_Score'] >= 9, 1, 0)"
   ]
  },
  {
   "cell_type": "code",
   "execution_count": 171,
   "id": "ae366f44",
   "metadata": {},
   "outputs": [
    {
     "data": {
      "text/html": [
       "<div>\n",
       "<style scoped>\n",
       "    .dataframe tbody tr th:only-of-type {\n",
       "        vertical-align: middle;\n",
       "    }\n",
       "\n",
       "    .dataframe tbody tr th {\n",
       "        vertical-align: top;\n",
       "    }\n",
       "\n",
       "    .dataframe thead th {\n",
       "        text-align: right;\n",
       "    }\n",
       "</style>\n",
       "<table border=\"1\" class=\"dataframe\">\n",
       "  <thead>\n",
       "    <tr style=\"text-align: right;\">\n",
       "      <th></th>\n",
       "      <th>Hotel_Address</th>\n",
       "      <th>Additional_Number_of_Scoring</th>\n",
       "      <th>Review_Date</th>\n",
       "      <th>Average_Score</th>\n",
       "      <th>Hotel_Name</th>\n",
       "      <th>Reviewer_Nationality</th>\n",
       "      <th>Negative_Review</th>\n",
       "      <th>Review_Total_Negative_Word_Counts</th>\n",
       "      <th>Total_Number_of_Reviews</th>\n",
       "      <th>Positive_Review</th>\n",
       "      <th>Review_Total_Positive_Word_Counts</th>\n",
       "      <th>Total_Number_of_Reviews_Reviewer_Has_Given</th>\n",
       "      <th>Reviewer_Score</th>\n",
       "      <th>Tags</th>\n",
       "      <th>days_since_review</th>\n",
       "      <th>Leisure_trip</th>\n",
       "      <th>Couple</th>\n",
       "      <th>Solo_traveler</th>\n",
       "      <th>Business_trip</th>\n",
       "      <th>Group</th>\n",
       "      <th>Family_with_young_children</th>\n",
       "      <th>Family_with_older_children</th>\n",
       "      <th>With_a_pet</th>\n",
       "      <th>Good or Not Good</th>\n",
       "    </tr>\n",
       "  </thead>\n",
       "  <tbody>\n",
       "    <tr>\n",
       "      <th>0</th>\n",
       "      <td>Amsterdam, Netherlands</td>\n",
       "      <td>194</td>\n",
       "      <td>2017</td>\n",
       "      <td>7.7</td>\n",
       "      <td>Hotel Arena</td>\n",
       "      <td>Russia</td>\n",
       "      <td>I am so angry that i made this post available...</td>\n",
       "      <td>397</td>\n",
       "      <td>1403</td>\n",
       "      <td>Only the park outside of the hotel was beauti...</td>\n",
       "      <td>11</td>\n",
       "      <td>7</td>\n",
       "      <td>3</td>\n",
       "      <td>Leisure trip, Couple, Duplex Double Room, Sta...</td>\n",
       "      <td>0 days</td>\n",
       "      <td>1</td>\n",
       "      <td>1</td>\n",
       "      <td>0</td>\n",
       "      <td>0</td>\n",
       "      <td>0</td>\n",
       "      <td>0</td>\n",
       "      <td>0</td>\n",
       "      <td>0</td>\n",
       "      <td>0</td>\n",
       "    </tr>\n",
       "    <tr>\n",
       "      <th>1</th>\n",
       "      <td>Amsterdam, Netherlands</td>\n",
       "      <td>194</td>\n",
       "      <td>2017</td>\n",
       "      <td>7.7</td>\n",
       "      <td>Hotel Arena</td>\n",
       "      <td>Ireland</td>\n",
       "      <td>No Negative</td>\n",
       "      <td>0</td>\n",
       "      <td>1403</td>\n",
       "      <td>No real complaints the hotel was great great ...</td>\n",
       "      <td>105</td>\n",
       "      <td>7</td>\n",
       "      <td>8</td>\n",
       "      <td>Leisure trip, Couple, Duplex Double Room, Sta...</td>\n",
       "      <td>0 days</td>\n",
       "      <td>1</td>\n",
       "      <td>1</td>\n",
       "      <td>0</td>\n",
       "      <td>0</td>\n",
       "      <td>0</td>\n",
       "      <td>0</td>\n",
       "      <td>0</td>\n",
       "      <td>0</td>\n",
       "      <td>0</td>\n",
       "    </tr>\n",
       "    <tr>\n",
       "      <th>2</th>\n",
       "      <td>Amsterdam, Netherlands</td>\n",
       "      <td>194</td>\n",
       "      <td>2017</td>\n",
       "      <td>7.7</td>\n",
       "      <td>Hotel Arena</td>\n",
       "      <td>Australia</td>\n",
       "      <td>Rooms are nice but for elderly a bit difficul...</td>\n",
       "      <td>42</td>\n",
       "      <td>1403</td>\n",
       "      <td>Location was good and staff were ok It is cut...</td>\n",
       "      <td>21</td>\n",
       "      <td>9</td>\n",
       "      <td>7</td>\n",
       "      <td>Leisure trip, Family with young children, Dup...</td>\n",
       "      <td>3 days</td>\n",
       "      <td>1</td>\n",
       "      <td>0</td>\n",
       "      <td>0</td>\n",
       "      <td>0</td>\n",
       "      <td>0</td>\n",
       "      <td>1</td>\n",
       "      <td>0</td>\n",
       "      <td>0</td>\n",
       "      <td>0</td>\n",
       "    </tr>\n",
       "    <tr>\n",
       "      <th>3</th>\n",
       "      <td>Amsterdam, Netherlands</td>\n",
       "      <td>194</td>\n",
       "      <td>2017</td>\n",
       "      <td>7.7</td>\n",
       "      <td>Hotel Arena</td>\n",
       "      <td>United Kingdom</td>\n",
       "      <td>My room was dirty and I was afraid to walk ba...</td>\n",
       "      <td>210</td>\n",
       "      <td>1403</td>\n",
       "      <td>Great location in nice surroundings the bar a...</td>\n",
       "      <td>26</td>\n",
       "      <td>1</td>\n",
       "      <td>4</td>\n",
       "      <td>Leisure trip, Solo traveler, Duplex Double Ro...</td>\n",
       "      <td>3 days</td>\n",
       "      <td>1</td>\n",
       "      <td>0</td>\n",
       "      <td>1</td>\n",
       "      <td>0</td>\n",
       "      <td>0</td>\n",
       "      <td>0</td>\n",
       "      <td>0</td>\n",
       "      <td>0</td>\n",
       "      <td>0</td>\n",
       "    </tr>\n",
       "    <tr>\n",
       "      <th>4</th>\n",
       "      <td>Amsterdam, Netherlands</td>\n",
       "      <td>194</td>\n",
       "      <td>2017</td>\n",
       "      <td>7.7</td>\n",
       "      <td>Hotel Arena</td>\n",
       "      <td>New Zealand</td>\n",
       "      <td>You When I booked with your company on line y...</td>\n",
       "      <td>140</td>\n",
       "      <td>1403</td>\n",
       "      <td>Amazing location and building Romantic setting</td>\n",
       "      <td>8</td>\n",
       "      <td>3</td>\n",
       "      <td>7</td>\n",
       "      <td>Leisure trip, Couple, Suite, Stayed 2 nights,...</td>\n",
       "      <td>10 days</td>\n",
       "      <td>1</td>\n",
       "      <td>1</td>\n",
       "      <td>0</td>\n",
       "      <td>0</td>\n",
       "      <td>0</td>\n",
       "      <td>0</td>\n",
       "      <td>0</td>\n",
       "      <td>0</td>\n",
       "      <td>0</td>\n",
       "    </tr>\n",
       "  </tbody>\n",
       "</table>\n",
       "</div>"
      ],
      "text/plain": [
       "            Hotel_Address  Additional_Number_of_Scoring Review_Date  \\\n",
       "0  Amsterdam, Netherlands                           194        2017   \n",
       "1  Amsterdam, Netherlands                           194        2017   \n",
       "2  Amsterdam, Netherlands                           194        2017   \n",
       "3  Amsterdam, Netherlands                           194        2017   \n",
       "4  Amsterdam, Netherlands                           194        2017   \n",
       "\n",
       "   Average_Score   Hotel_Name Reviewer_Nationality  \\\n",
       "0            7.7  Hotel Arena              Russia    \n",
       "1            7.7  Hotel Arena             Ireland    \n",
       "2            7.7  Hotel Arena           Australia    \n",
       "3            7.7  Hotel Arena      United Kingdom    \n",
       "4            7.7  Hotel Arena         New Zealand    \n",
       "\n",
       "                                     Negative_Review  \\\n",
       "0   I am so angry that i made this post available...   \n",
       "1                                        No Negative   \n",
       "2   Rooms are nice but for elderly a bit difficul...   \n",
       "3   My room was dirty and I was afraid to walk ba...   \n",
       "4   You When I booked with your company on line y...   \n",
       "\n",
       "   Review_Total_Negative_Word_Counts  Total_Number_of_Reviews  \\\n",
       "0                                397                     1403   \n",
       "1                                  0                     1403   \n",
       "2                                 42                     1403   \n",
       "3                                210                     1403   \n",
       "4                                140                     1403   \n",
       "\n",
       "                                     Positive_Review  \\\n",
       "0   Only the park outside of the hotel was beauti...   \n",
       "1   No real complaints the hotel was great great ...   \n",
       "2   Location was good and staff were ok It is cut...   \n",
       "3   Great location in nice surroundings the bar a...   \n",
       "4    Amazing location and building Romantic setting    \n",
       "\n",
       "   Review_Total_Positive_Word_Counts  \\\n",
       "0                                 11   \n",
       "1                                105   \n",
       "2                                 21   \n",
       "3                                 26   \n",
       "4                                  8   \n",
       "\n",
       "   Total_Number_of_Reviews_Reviewer_Has_Given  Reviewer_Score  \\\n",
       "0                                           7               3   \n",
       "1                                           7               8   \n",
       "2                                           9               7   \n",
       "3                                           1               4   \n",
       "4                                           3               7   \n",
       "\n",
       "                                                Tags days_since_review  \\\n",
       "0   Leisure trip, Couple, Duplex Double Room, Sta...            0 days   \n",
       "1   Leisure trip, Couple, Duplex Double Room, Sta...            0 days   \n",
       "2   Leisure trip, Family with young children, Dup...            3 days   \n",
       "3   Leisure trip, Solo traveler, Duplex Double Ro...            3 days   \n",
       "4   Leisure trip, Couple, Suite, Stayed 2 nights,...           10 days   \n",
       "\n",
       "   Leisure_trip  Couple  Solo_traveler  Business_trip  Group  \\\n",
       "0             1       1              0              0      0   \n",
       "1             1       1              0              0      0   \n",
       "2             1       0              0              0      0   \n",
       "3             1       0              1              0      0   \n",
       "4             1       1              0              0      0   \n",
       "\n",
       "   Family_with_young_children  Family_with_older_children  With_a_pet  \\\n",
       "0                           0                           0           0   \n",
       "1                           0                           0           0   \n",
       "2                           1                           0           0   \n",
       "3                           0                           0           0   \n",
       "4                           0                           0           0   \n",
       "\n",
       "   Good or Not Good  \n",
       "0                 0  \n",
       "1                 0  \n",
       "2                 0  \n",
       "3                 0  \n",
       "4                 0  "
      ]
     },
     "execution_count": 171,
     "metadata": {},
     "output_type": "execute_result"
    }
   ],
   "source": [
    "#Checking to see new column added to df\n",
    "df.head()"
   ]
  },
  {
   "cell_type": "code",
   "execution_count": 172,
   "id": "cffc9247",
   "metadata": {},
   "outputs": [
    {
     "data": {
      "text/plain": [
       "1    293213\n",
       "0    221999\n",
       "Name: Good or Not Good, dtype: int64"
      ]
     },
     "execution_count": 172,
     "metadata": {},
     "output_type": "execute_result"
    }
   ],
   "source": [
    "#Checking value count for new column\n",
    "df['Good or Not Good'].value_counts()"
   ]
  },
  {
   "cell_type": "code",
   "execution_count": 173,
   "id": "095a9458",
   "metadata": {},
   "outputs": [
    {
     "data": {
      "text/plain": [
       "1    56.911136\n",
       "0    43.088864\n",
       "Name: Good or Not Good, dtype: float64"
      ]
     },
     "execution_count": 173,
     "metadata": {},
     "output_type": "execute_result"
    }
   ],
   "source": [
    "#Checking percentage of scores that are Good vs Not Good\n",
    "df['Good or Not Good'].value_counts()/df['Good or Not Good'].shape[0]*100.0"
   ]
  },
  {
   "cell_type": "markdown",
   "id": "6a69a85b",
   "metadata": {},
   "source": [
    "Data is still a bit imbalanced as reviewers left scores between 2 and 10, yet the reviews that received a 9 or 10 appeared 57% of the time in this dataframe and all other scores showed up only 43% of the time."
   ]
  },
  {
   "cell_type": "markdown",
   "id": "e166cea9",
   "metadata": {},
   "source": [
    "<u>Question 3b: Convert the columns you identified in question 2 into numeric columns, and drop all non-numeric columns except Positive_Review and Negative_Review.<u>"
   ]
  },
  {
   "cell_type": "code",
   "execution_count": 174,
   "id": "c6a3fbf0",
   "metadata": {},
   "outputs": [
    {
     "data": {
      "text/html": [
       "<div>\n",
       "<style scoped>\n",
       "    .dataframe tbody tr th:only-of-type {\n",
       "        vertical-align: middle;\n",
       "    }\n",
       "\n",
       "    .dataframe tbody tr th {\n",
       "        vertical-align: top;\n",
       "    }\n",
       "\n",
       "    .dataframe thead th {\n",
       "        text-align: right;\n",
       "    }\n",
       "</style>\n",
       "<table border=\"1\" class=\"dataframe\">\n",
       "  <thead>\n",
       "    <tr style=\"text-align: right;\">\n",
       "      <th></th>\n",
       "      <th>Hotel_Address</th>\n",
       "      <th>Review_Date</th>\n",
       "      <th>Hotel_Name</th>\n",
       "      <th>Reviewer_Nationality</th>\n",
       "      <th>Negative_Review</th>\n",
       "      <th>Positive_Review</th>\n",
       "      <th>Tags</th>\n",
       "      <th>days_since_review</th>\n",
       "    </tr>\n",
       "  </thead>\n",
       "  <tbody>\n",
       "    <tr>\n",
       "      <th>0</th>\n",
       "      <td>Amsterdam, Netherlands</td>\n",
       "      <td>2017</td>\n",
       "      <td>Hotel Arena</td>\n",
       "      <td>Russia</td>\n",
       "      <td>I am so angry that i made this post available...</td>\n",
       "      <td>Only the park outside of the hotel was beauti...</td>\n",
       "      <td>Leisure trip, Couple, Duplex Double Room, Sta...</td>\n",
       "      <td>0 days</td>\n",
       "    </tr>\n",
       "    <tr>\n",
       "      <th>1</th>\n",
       "      <td>Amsterdam, Netherlands</td>\n",
       "      <td>2017</td>\n",
       "      <td>Hotel Arena</td>\n",
       "      <td>Ireland</td>\n",
       "      <td>No Negative</td>\n",
       "      <td>No real complaints the hotel was great great ...</td>\n",
       "      <td>Leisure trip, Couple, Duplex Double Room, Sta...</td>\n",
       "      <td>0 days</td>\n",
       "    </tr>\n",
       "    <tr>\n",
       "      <th>2</th>\n",
       "      <td>Amsterdam, Netherlands</td>\n",
       "      <td>2017</td>\n",
       "      <td>Hotel Arena</td>\n",
       "      <td>Australia</td>\n",
       "      <td>Rooms are nice but for elderly a bit difficul...</td>\n",
       "      <td>Location was good and staff were ok It is cut...</td>\n",
       "      <td>Leisure trip, Family with young children, Dup...</td>\n",
       "      <td>3 days</td>\n",
       "    </tr>\n",
       "    <tr>\n",
       "      <th>3</th>\n",
       "      <td>Amsterdam, Netherlands</td>\n",
       "      <td>2017</td>\n",
       "      <td>Hotel Arena</td>\n",
       "      <td>United Kingdom</td>\n",
       "      <td>My room was dirty and I was afraid to walk ba...</td>\n",
       "      <td>Great location in nice surroundings the bar a...</td>\n",
       "      <td>Leisure trip, Solo traveler, Duplex Double Ro...</td>\n",
       "      <td>3 days</td>\n",
       "    </tr>\n",
       "    <tr>\n",
       "      <th>4</th>\n",
       "      <td>Amsterdam, Netherlands</td>\n",
       "      <td>2017</td>\n",
       "      <td>Hotel Arena</td>\n",
       "      <td>New Zealand</td>\n",
       "      <td>You When I booked with your company on line y...</td>\n",
       "      <td>Amazing location and building Romantic setting</td>\n",
       "      <td>Leisure trip, Couple, Suite, Stayed 2 nights,...</td>\n",
       "      <td>10 days</td>\n",
       "    </tr>\n",
       "  </tbody>\n",
       "</table>\n",
       "</div>"
      ],
      "text/plain": [
       "            Hotel_Address Review_Date   Hotel_Name Reviewer_Nationality  \\\n",
       "0  Amsterdam, Netherlands        2017  Hotel Arena              Russia    \n",
       "1  Amsterdam, Netherlands        2017  Hotel Arena             Ireland    \n",
       "2  Amsterdam, Netherlands        2017  Hotel Arena           Australia    \n",
       "3  Amsterdam, Netherlands        2017  Hotel Arena      United Kingdom    \n",
       "4  Amsterdam, Netherlands        2017  Hotel Arena         New Zealand    \n",
       "\n",
       "                                     Negative_Review  \\\n",
       "0   I am so angry that i made this post available...   \n",
       "1                                        No Negative   \n",
       "2   Rooms are nice but for elderly a bit difficul...   \n",
       "3   My room was dirty and I was afraid to walk ba...   \n",
       "4   You When I booked with your company on line y...   \n",
       "\n",
       "                                     Positive_Review  \\\n",
       "0   Only the park outside of the hotel was beauti...   \n",
       "1   No real complaints the hotel was great great ...   \n",
       "2   Location was good and staff were ok It is cut...   \n",
       "3   Great location in nice surroundings the bar a...   \n",
       "4    Amazing location and building Romantic setting    \n",
       "\n",
       "                                                Tags days_since_review  \n",
       "0   Leisure trip, Couple, Duplex Double Room, Sta...            0 days  \n",
       "1   Leisure trip, Couple, Duplex Double Room, Sta...            0 days  \n",
       "2   Leisure trip, Family with young children, Dup...            3 days  \n",
       "3   Leisure trip, Solo traveler, Duplex Double Ro...            3 days  \n",
       "4   Leisure trip, Couple, Suite, Stayed 2 nights,...           10 days  "
      ]
     },
     "execution_count": 174,
     "metadata": {},
     "output_type": "execute_result"
    }
   ],
   "source": [
    "#Checking the dataframe for categorical columns again\n",
    "categorical_df = df.select_dtypes('object').copy()\n",
    "\n",
    "#Check\n",
    "categorical_df.head()"
   ]
  },
  {
   "cell_type": "code",
   "execution_count": 175,
   "id": "74c2f31c",
   "metadata": {},
   "outputs": [
    {
     "data": {
      "text/html": [
       "<div>\n",
       "<style scoped>\n",
       "    .dataframe tbody tr th:only-of-type {\n",
       "        vertical-align: middle;\n",
       "    }\n",
       "\n",
       "    .dataframe tbody tr th {\n",
       "        vertical-align: top;\n",
       "    }\n",
       "\n",
       "    .dataframe thead th {\n",
       "        text-align: right;\n",
       "    }\n",
       "</style>\n",
       "<table border=\"1\" class=\"dataframe\">\n",
       "  <thead>\n",
       "    <tr style=\"text-align: right;\">\n",
       "      <th></th>\n",
       "      <th>Additional_Number_of_Scoring</th>\n",
       "      <th>Average_Score</th>\n",
       "      <th>Review_Total_Negative_Word_Counts</th>\n",
       "      <th>Total_Number_of_Reviews</th>\n",
       "      <th>Review_Total_Positive_Word_Counts</th>\n",
       "      <th>Total_Number_of_Reviews_Reviewer_Has_Given</th>\n",
       "      <th>Reviewer_Score</th>\n",
       "      <th>Leisure_trip</th>\n",
       "      <th>Couple</th>\n",
       "      <th>Solo_traveler</th>\n",
       "      <th>Business_trip</th>\n",
       "      <th>Group</th>\n",
       "      <th>Family_with_young_children</th>\n",
       "      <th>Family_with_older_children</th>\n",
       "      <th>With_a_pet</th>\n",
       "      <th>Good or Not Good</th>\n",
       "    </tr>\n",
       "  </thead>\n",
       "  <tbody>\n",
       "    <tr>\n",
       "      <th>0</th>\n",
       "      <td>194</td>\n",
       "      <td>7.7</td>\n",
       "      <td>397</td>\n",
       "      <td>1403</td>\n",
       "      <td>11</td>\n",
       "      <td>7</td>\n",
       "      <td>3</td>\n",
       "      <td>1</td>\n",
       "      <td>1</td>\n",
       "      <td>0</td>\n",
       "      <td>0</td>\n",
       "      <td>0</td>\n",
       "      <td>0</td>\n",
       "      <td>0</td>\n",
       "      <td>0</td>\n",
       "      <td>0</td>\n",
       "    </tr>\n",
       "    <tr>\n",
       "      <th>1</th>\n",
       "      <td>194</td>\n",
       "      <td>7.7</td>\n",
       "      <td>0</td>\n",
       "      <td>1403</td>\n",
       "      <td>105</td>\n",
       "      <td>7</td>\n",
       "      <td>8</td>\n",
       "      <td>1</td>\n",
       "      <td>1</td>\n",
       "      <td>0</td>\n",
       "      <td>0</td>\n",
       "      <td>0</td>\n",
       "      <td>0</td>\n",
       "      <td>0</td>\n",
       "      <td>0</td>\n",
       "      <td>0</td>\n",
       "    </tr>\n",
       "    <tr>\n",
       "      <th>2</th>\n",
       "      <td>194</td>\n",
       "      <td>7.7</td>\n",
       "      <td>42</td>\n",
       "      <td>1403</td>\n",
       "      <td>21</td>\n",
       "      <td>9</td>\n",
       "      <td>7</td>\n",
       "      <td>1</td>\n",
       "      <td>0</td>\n",
       "      <td>0</td>\n",
       "      <td>0</td>\n",
       "      <td>0</td>\n",
       "      <td>1</td>\n",
       "      <td>0</td>\n",
       "      <td>0</td>\n",
       "      <td>0</td>\n",
       "    </tr>\n",
       "    <tr>\n",
       "      <th>3</th>\n",
       "      <td>194</td>\n",
       "      <td>7.7</td>\n",
       "      <td>210</td>\n",
       "      <td>1403</td>\n",
       "      <td>26</td>\n",
       "      <td>1</td>\n",
       "      <td>4</td>\n",
       "      <td>1</td>\n",
       "      <td>0</td>\n",
       "      <td>1</td>\n",
       "      <td>0</td>\n",
       "      <td>0</td>\n",
       "      <td>0</td>\n",
       "      <td>0</td>\n",
       "      <td>0</td>\n",
       "      <td>0</td>\n",
       "    </tr>\n",
       "    <tr>\n",
       "      <th>4</th>\n",
       "      <td>194</td>\n",
       "      <td>7.7</td>\n",
       "      <td>140</td>\n",
       "      <td>1403</td>\n",
       "      <td>8</td>\n",
       "      <td>3</td>\n",
       "      <td>7</td>\n",
       "      <td>1</td>\n",
       "      <td>1</td>\n",
       "      <td>0</td>\n",
       "      <td>0</td>\n",
       "      <td>0</td>\n",
       "      <td>0</td>\n",
       "      <td>0</td>\n",
       "      <td>0</td>\n",
       "      <td>0</td>\n",
       "    </tr>\n",
       "  </tbody>\n",
       "</table>\n",
       "</div>"
      ],
      "text/plain": [
       "   Additional_Number_of_Scoring  Average_Score  \\\n",
       "0                           194            7.7   \n",
       "1                           194            7.7   \n",
       "2                           194            7.7   \n",
       "3                           194            7.7   \n",
       "4                           194            7.7   \n",
       "\n",
       "   Review_Total_Negative_Word_Counts  Total_Number_of_Reviews  \\\n",
       "0                                397                     1403   \n",
       "1                                  0                     1403   \n",
       "2                                 42                     1403   \n",
       "3                                210                     1403   \n",
       "4                                140                     1403   \n",
       "\n",
       "   Review_Total_Positive_Word_Counts  \\\n",
       "0                                 11   \n",
       "1                                105   \n",
       "2                                 21   \n",
       "3                                 26   \n",
       "4                                  8   \n",
       "\n",
       "   Total_Number_of_Reviews_Reviewer_Has_Given  Reviewer_Score  Leisure_trip  \\\n",
       "0                                           7               3             1   \n",
       "1                                           7               8             1   \n",
       "2                                           9               7             1   \n",
       "3                                           1               4             1   \n",
       "4                                           3               7             1   \n",
       "\n",
       "   Couple  Solo_traveler  Business_trip  Group  Family_with_young_children  \\\n",
       "0       1              0              0      0                           0   \n",
       "1       1              0              0      0                           0   \n",
       "2       0              0              0      0                           1   \n",
       "3       0              1              0      0                           0   \n",
       "4       1              0              0      0                           0   \n",
       "\n",
       "   Family_with_older_children  With_a_pet  Good or Not Good  \n",
       "0                           0           0                 0  \n",
       "1                           0           0                 0  \n",
       "2                           0           0                 0  \n",
       "3                           0           0                 0  \n",
       "4                           0           0                 0  "
      ]
     },
     "execution_count": 175,
     "metadata": {},
     "output_type": "execute_result"
    }
   ],
   "source": [
    "# Checking the dataframes with only the numeric columns again, 9 new ones should be added from the past 2 questions\n",
    "numeric_df = df.select_dtypes(['int64','float64']).copy()\n",
    "\n",
    "numeric_df.head()"
   ]
  },
  {
   "cell_type": "code",
   "execution_count": 176,
   "id": "c46c8cb8",
   "metadata": {},
   "outputs": [
    {
     "data": {
      "text/plain": [
       "Index(['Hotel_Address', 'Review_Date', 'Hotel_Name', 'Reviewer_Nationality',\n",
       "       'Negative_Review', 'Positive_Review', 'Tags', 'days_since_review'],\n",
       "      dtype='object')"
      ]
     },
     "execution_count": 176,
     "metadata": {},
     "output_type": "execute_result"
    }
   ],
   "source": [
    "# checking categorical features\n",
    "cat = df.select_dtypes(include='O').keys()\n",
    "# display variabels\n",
    "cat"
   ]
  },
  {
   "cell_type": "markdown",
   "id": "4ea1b311",
   "metadata": {},
   "source": [
    "As I stated in Question 2, I'm going to turn the Hotel Address and Review Date columns into numeric. I already converted the Tags column into 8 new numeric columns.\n",
    "\n",
    "Hotel Name, Reviewer Nationality and days since review will not be converted and I will drop these columns later on.\n",
    "\n",
    "I'm supposed to leave the Positive Review and Negative Review columns the same."
   ]
  },
  {
   "cell_type": "markdown",
   "id": "16c2e9ba",
   "metadata": {},
   "source": [
    "I'm going to turn Hotel Address and Review Date into numeric columns using one hot encoder."
   ]
  },
  {
   "cell_type": "code",
   "execution_count": 177,
   "id": "b7b54916",
   "metadata": {},
   "outputs": [
    {
     "data": {
      "text/html": [
       "<div>\n",
       "<style scoped>\n",
       "    .dataframe tbody tr th:only-of-type {\n",
       "        vertical-align: middle;\n",
       "    }\n",
       "\n",
       "    .dataframe tbody tr th {\n",
       "        vertical-align: top;\n",
       "    }\n",
       "\n",
       "    .dataframe thead th {\n",
       "        text-align: right;\n",
       "    }\n",
       "</style>\n",
       "<table border=\"1\" class=\"dataframe\">\n",
       "  <thead>\n",
       "    <tr style=\"text-align: right;\">\n",
       "      <th></th>\n",
       "      <th>onehotencoder__x0_Amsterdam, Netherlands</th>\n",
       "      <th>onehotencoder__x0_Barcelona, Spain</th>\n",
       "      <th>onehotencoder__x0_London UK</th>\n",
       "      <th>onehotencoder__x0_Milan, Italy</th>\n",
       "      <th>onehotencoder__x0_Paris, France</th>\n",
       "      <th>onehotencoder__x0_Vienna, Austria</th>\n",
       "      <th>onehotencoder__x1_2015</th>\n",
       "      <th>onehotencoder__x1_2016</th>\n",
       "      <th>onehotencoder__x1_2017</th>\n",
       "      <th>Additional_Number_of_Scoring</th>\n",
       "      <th>Average_Score</th>\n",
       "      <th>Hotel_Name</th>\n",
       "      <th>Reviewer_Nationality</th>\n",
       "      <th>Negative_Review</th>\n",
       "      <th>Review_Total_Negative_Word_Counts</th>\n",
       "      <th>Total_Number_of_Reviews</th>\n",
       "      <th>Positive_Review</th>\n",
       "      <th>Review_Total_Positive_Word_Counts</th>\n",
       "      <th>Total_Number_of_Reviews_Reviewer_Has_Given</th>\n",
       "      <th>Reviewer_Score</th>\n",
       "      <th>Tags</th>\n",
       "      <th>days_since_review</th>\n",
       "      <th>Leisure_trip</th>\n",
       "      <th>Couple</th>\n",
       "      <th>Solo_traveler</th>\n",
       "      <th>Business_trip</th>\n",
       "      <th>Group</th>\n",
       "      <th>Family_with_young_children</th>\n",
       "      <th>Family_with_older_children</th>\n",
       "      <th>With_a_pet</th>\n",
       "      <th>Good or Not Good</th>\n",
       "    </tr>\n",
       "  </thead>\n",
       "  <tbody>\n",
       "    <tr>\n",
       "      <th>0</th>\n",
       "      <td>1.0</td>\n",
       "      <td>0.0</td>\n",
       "      <td>0.0</td>\n",
       "      <td>0.0</td>\n",
       "      <td>0.0</td>\n",
       "      <td>0.0</td>\n",
       "      <td>0.0</td>\n",
       "      <td>0.0</td>\n",
       "      <td>1.0</td>\n",
       "      <td>194</td>\n",
       "      <td>7.7</td>\n",
       "      <td>Hotel Arena</td>\n",
       "      <td>Russia</td>\n",
       "      <td>I am so angry that i made this post available...</td>\n",
       "      <td>397</td>\n",
       "      <td>1403</td>\n",
       "      <td>Only the park outside of the hotel was beauti...</td>\n",
       "      <td>11</td>\n",
       "      <td>7</td>\n",
       "      <td>3</td>\n",
       "      <td>Leisure trip, Couple, Duplex Double Room, Sta...</td>\n",
       "      <td>0 days</td>\n",
       "      <td>1</td>\n",
       "      <td>1</td>\n",
       "      <td>0</td>\n",
       "      <td>0</td>\n",
       "      <td>0</td>\n",
       "      <td>0</td>\n",
       "      <td>0</td>\n",
       "      <td>0</td>\n",
       "      <td>0</td>\n",
       "    </tr>\n",
       "    <tr>\n",
       "      <th>1</th>\n",
       "      <td>1.0</td>\n",
       "      <td>0.0</td>\n",
       "      <td>0.0</td>\n",
       "      <td>0.0</td>\n",
       "      <td>0.0</td>\n",
       "      <td>0.0</td>\n",
       "      <td>0.0</td>\n",
       "      <td>0.0</td>\n",
       "      <td>1.0</td>\n",
       "      <td>194</td>\n",
       "      <td>7.7</td>\n",
       "      <td>Hotel Arena</td>\n",
       "      <td>Ireland</td>\n",
       "      <td>No Negative</td>\n",
       "      <td>0</td>\n",
       "      <td>1403</td>\n",
       "      <td>No real complaints the hotel was great great ...</td>\n",
       "      <td>105</td>\n",
       "      <td>7</td>\n",
       "      <td>8</td>\n",
       "      <td>Leisure trip, Couple, Duplex Double Room, Sta...</td>\n",
       "      <td>0 days</td>\n",
       "      <td>1</td>\n",
       "      <td>1</td>\n",
       "      <td>0</td>\n",
       "      <td>0</td>\n",
       "      <td>0</td>\n",
       "      <td>0</td>\n",
       "      <td>0</td>\n",
       "      <td>0</td>\n",
       "      <td>0</td>\n",
       "    </tr>\n",
       "    <tr>\n",
       "      <th>2</th>\n",
       "      <td>1.0</td>\n",
       "      <td>0.0</td>\n",
       "      <td>0.0</td>\n",
       "      <td>0.0</td>\n",
       "      <td>0.0</td>\n",
       "      <td>0.0</td>\n",
       "      <td>0.0</td>\n",
       "      <td>0.0</td>\n",
       "      <td>1.0</td>\n",
       "      <td>194</td>\n",
       "      <td>7.7</td>\n",
       "      <td>Hotel Arena</td>\n",
       "      <td>Australia</td>\n",
       "      <td>Rooms are nice but for elderly a bit difficul...</td>\n",
       "      <td>42</td>\n",
       "      <td>1403</td>\n",
       "      <td>Location was good and staff were ok It is cut...</td>\n",
       "      <td>21</td>\n",
       "      <td>9</td>\n",
       "      <td>7</td>\n",
       "      <td>Leisure trip, Family with young children, Dup...</td>\n",
       "      <td>3 days</td>\n",
       "      <td>1</td>\n",
       "      <td>0</td>\n",
       "      <td>0</td>\n",
       "      <td>0</td>\n",
       "      <td>0</td>\n",
       "      <td>1</td>\n",
       "      <td>0</td>\n",
       "      <td>0</td>\n",
       "      <td>0</td>\n",
       "    </tr>\n",
       "    <tr>\n",
       "      <th>3</th>\n",
       "      <td>1.0</td>\n",
       "      <td>0.0</td>\n",
       "      <td>0.0</td>\n",
       "      <td>0.0</td>\n",
       "      <td>0.0</td>\n",
       "      <td>0.0</td>\n",
       "      <td>0.0</td>\n",
       "      <td>0.0</td>\n",
       "      <td>1.0</td>\n",
       "      <td>194</td>\n",
       "      <td>7.7</td>\n",
       "      <td>Hotel Arena</td>\n",
       "      <td>United Kingdom</td>\n",
       "      <td>My room was dirty and I was afraid to walk ba...</td>\n",
       "      <td>210</td>\n",
       "      <td>1403</td>\n",
       "      <td>Great location in nice surroundings the bar a...</td>\n",
       "      <td>26</td>\n",
       "      <td>1</td>\n",
       "      <td>4</td>\n",
       "      <td>Leisure trip, Solo traveler, Duplex Double Ro...</td>\n",
       "      <td>3 days</td>\n",
       "      <td>1</td>\n",
       "      <td>0</td>\n",
       "      <td>1</td>\n",
       "      <td>0</td>\n",
       "      <td>0</td>\n",
       "      <td>0</td>\n",
       "      <td>0</td>\n",
       "      <td>0</td>\n",
       "      <td>0</td>\n",
       "    </tr>\n",
       "    <tr>\n",
       "      <th>4</th>\n",
       "      <td>1.0</td>\n",
       "      <td>0.0</td>\n",
       "      <td>0.0</td>\n",
       "      <td>0.0</td>\n",
       "      <td>0.0</td>\n",
       "      <td>0.0</td>\n",
       "      <td>0.0</td>\n",
       "      <td>0.0</td>\n",
       "      <td>1.0</td>\n",
       "      <td>194</td>\n",
       "      <td>7.7</td>\n",
       "      <td>Hotel Arena</td>\n",
       "      <td>New Zealand</td>\n",
       "      <td>You When I booked with your company on line y...</td>\n",
       "      <td>140</td>\n",
       "      <td>1403</td>\n",
       "      <td>Amazing location and building Romantic setting</td>\n",
       "      <td>8</td>\n",
       "      <td>3</td>\n",
       "      <td>7</td>\n",
       "      <td>Leisure trip, Couple, Suite, Stayed 2 nights,...</td>\n",
       "      <td>10 days</td>\n",
       "      <td>1</td>\n",
       "      <td>1</td>\n",
       "      <td>0</td>\n",
       "      <td>0</td>\n",
       "      <td>0</td>\n",
       "      <td>0</td>\n",
       "      <td>0</td>\n",
       "      <td>0</td>\n",
       "      <td>0</td>\n",
       "    </tr>\n",
       "  </tbody>\n",
       "</table>\n",
       "</div>"
      ],
      "text/plain": [
       "  onehotencoder__x0_Amsterdam, Netherlands onehotencoder__x0_Barcelona, Spain  \\\n",
       "0                                      1.0                                0.0   \n",
       "1                                      1.0                                0.0   \n",
       "2                                      1.0                                0.0   \n",
       "3                                      1.0                                0.0   \n",
       "4                                      1.0                                0.0   \n",
       "\n",
       "  onehotencoder__x0_London UK onehotencoder__x0_Milan, Italy  \\\n",
       "0                         0.0                            0.0   \n",
       "1                         0.0                            0.0   \n",
       "2                         0.0                            0.0   \n",
       "3                         0.0                            0.0   \n",
       "4                         0.0                            0.0   \n",
       "\n",
       "  onehotencoder__x0_Paris, France onehotencoder__x0_Vienna, Austria  \\\n",
       "0                             0.0                               0.0   \n",
       "1                             0.0                               0.0   \n",
       "2                             0.0                               0.0   \n",
       "3                             0.0                               0.0   \n",
       "4                             0.0                               0.0   \n",
       "\n",
       "  onehotencoder__x1_2015 onehotencoder__x1_2016 onehotencoder__x1_2017  \\\n",
       "0                    0.0                    0.0                    1.0   \n",
       "1                    0.0                    0.0                    1.0   \n",
       "2                    0.0                    0.0                    1.0   \n",
       "3                    0.0                    0.0                    1.0   \n",
       "4                    0.0                    0.0                    1.0   \n",
       "\n",
       "  Additional_Number_of_Scoring Average_Score   Hotel_Name  \\\n",
       "0                          194           7.7  Hotel Arena   \n",
       "1                          194           7.7  Hotel Arena   \n",
       "2                          194           7.7  Hotel Arena   \n",
       "3                          194           7.7  Hotel Arena   \n",
       "4                          194           7.7  Hotel Arena   \n",
       "\n",
       "  Reviewer_Nationality                                    Negative_Review  \\\n",
       "0              Russia    I am so angry that i made this post available...   \n",
       "1             Ireland                                         No Negative   \n",
       "2           Australia    Rooms are nice but for elderly a bit difficul...   \n",
       "3      United Kingdom    My room was dirty and I was afraid to walk ba...   \n",
       "4         New Zealand    You When I booked with your company on line y...   \n",
       "\n",
       "  Review_Total_Negative_Word_Counts Total_Number_of_Reviews  \\\n",
       "0                               397                    1403   \n",
       "1                                 0                    1403   \n",
       "2                                42                    1403   \n",
       "3                               210                    1403   \n",
       "4                               140                    1403   \n",
       "\n",
       "                                     Positive_Review  \\\n",
       "0   Only the park outside of the hotel was beauti...   \n",
       "1   No real complaints the hotel was great great ...   \n",
       "2   Location was good and staff were ok It is cut...   \n",
       "3   Great location in nice surroundings the bar a...   \n",
       "4    Amazing location and building Romantic setting    \n",
       "\n",
       "  Review_Total_Positive_Word_Counts  \\\n",
       "0                                11   \n",
       "1                               105   \n",
       "2                                21   \n",
       "3                                26   \n",
       "4                                 8   \n",
       "\n",
       "  Total_Number_of_Reviews_Reviewer_Has_Given Reviewer_Score  \\\n",
       "0                                          7              3   \n",
       "1                                          7              8   \n",
       "2                                          9              7   \n",
       "3                                          1              4   \n",
       "4                                          3              7   \n",
       "\n",
       "                                                Tags days_since_review  \\\n",
       "0   Leisure trip, Couple, Duplex Double Room, Sta...            0 days   \n",
       "1   Leisure trip, Couple, Duplex Double Room, Sta...            0 days   \n",
       "2   Leisure trip, Family with young children, Dup...            3 days   \n",
       "3   Leisure trip, Solo traveler, Duplex Double Ro...            3 days   \n",
       "4   Leisure trip, Couple, Suite, Stayed 2 nights,...           10 days   \n",
       "\n",
       "  Leisure_trip Couple Solo_traveler Business_trip Group  \\\n",
       "0            1      1             0             0     0   \n",
       "1            1      1             0             0     0   \n",
       "2            1      0             0             0     0   \n",
       "3            1      0             1             0     0   \n",
       "4            1      1             0             0     0   \n",
       "\n",
       "  Family_with_young_children Family_with_older_children With_a_pet  \\\n",
       "0                          0                          0          0   \n",
       "1                          0                          0          0   \n",
       "2                          1                          0          0   \n",
       "3                          0                          0          0   \n",
       "4                          0                          0          0   \n",
       "\n",
       "  Good or Not Good  \n",
       "0                0  \n",
       "1                0  \n",
       "2                0  \n",
       "3                0  \n",
       "4                0  "
      ]
     },
     "execution_count": 177,
     "metadata": {},
     "output_type": "execute_result"
    }
   ],
   "source": [
    "# One-hot encoding multiple columns\n",
    "from sklearn.preprocessing import OneHotEncoder\n",
    "from sklearn.compose import make_column_transformer\n",
    "from seaborn import load_dataset\n",
    "\n",
    "df1 = df[['Hotel_Address', 'Review_Date']]\n",
    "\n",
    "\n",
    "transformer = make_column_transformer(\n",
    "    (OneHotEncoder(), ['Hotel_Address', 'Review_Date']),\n",
    "    remainder='passthrough')\n",
    "\n",
    "transformed = transformer.fit_transform(df)\n",
    "transformed_df = pd.DataFrame(transformed, columns=transformer.get_feature_names())\n",
    "transformed_df.head()"
   ]
  },
  {
   "cell_type": "markdown",
   "id": "a7c29c2a",
   "metadata": {},
   "source": [
    "I converted Hotel Address and Review date into 9 new columns and now I'm going to drop all the categorical columns I don't need anymore."
   ]
  },
  {
   "cell_type": "code",
   "execution_count": 178,
   "id": "b3f60ccf",
   "metadata": {},
   "outputs": [],
   "source": [
    "#Dropping all the categorical columns I don't need anymore\n",
    "df.drop(['Hotel_Address', 'Review_Date', 'Hotel_Name', 'Reviewer_Nationality',\n",
    "         'Tags', 'days_since_review'], axis=1, inplace=True)"
   ]
  },
  {
   "cell_type": "markdown",
   "id": "1c58ed5b",
   "metadata": {},
   "source": [
    "I'm going to concatenate the transformed_df with df, but I don't want to repeat any columns, so I will drop all columns except the onehotencoded columns I created for transformed_df."
   ]
  },
  {
   "cell_type": "code",
   "execution_count": 179,
   "id": "6fe84e6e",
   "metadata": {},
   "outputs": [],
   "source": [
    "#Dropping repeated columns\n",
    "transformed_df.drop(['Additional_Number_of_Scoring', 'Average_Score', 'Hotel_Name', 'Reviewer_Nationality', 'Negative_Review',\n",
    "                    'Tags', 'Review_Total_Negative_Word_Counts', 'Total_Number_of_Reviews', 'Positive_Review',\n",
    "                     'Review_Total_Positive_Word_Counts', 'Total_Number_of_Reviews_Reviewer_Has_Given', 'Reviewer_Score',\n",
    "                     'days_since_review', 'Leisure_trip', 'Couple', 'Solo_traveler', 'Business_trip',\n",
    "                     'Group', 'Family_with_young_children', 'Family_with_older_children', 'With_a_pet', 'Good or Not Good'], axis=1, inplace=True)"
   ]
  },
  {
   "cell_type": "code",
   "execution_count": 180,
   "id": "397544c1",
   "metadata": {},
   "outputs": [],
   "source": [
    "#Concatenating the one hot encoded columns to the dataframe\n",
    "df = pd.concat([transformed_df, df], axis=1)"
   ]
  },
  {
   "cell_type": "code",
   "execution_count": 181,
   "id": "aad2eef9",
   "metadata": {},
   "outputs": [],
   "source": [
    "#I want to make sure I can see all columns\n",
    "pd.options.display.max_columns = None"
   ]
  },
  {
   "cell_type": "code",
   "execution_count": 182,
   "id": "2330c869",
   "metadata": {},
   "outputs": [
    {
     "data": {
      "text/html": [
       "<div>\n",
       "<style scoped>\n",
       "    .dataframe tbody tr th:only-of-type {\n",
       "        vertical-align: middle;\n",
       "    }\n",
       "\n",
       "    .dataframe tbody tr th {\n",
       "        vertical-align: top;\n",
       "    }\n",
       "\n",
       "    .dataframe thead th {\n",
       "        text-align: right;\n",
       "    }\n",
       "</style>\n",
       "<table border=\"1\" class=\"dataframe\">\n",
       "  <thead>\n",
       "    <tr style=\"text-align: right;\">\n",
       "      <th></th>\n",
       "      <th>onehotencoder__x0_Amsterdam, Netherlands</th>\n",
       "      <th>onehotencoder__x0_Barcelona, Spain</th>\n",
       "      <th>onehotencoder__x0_London UK</th>\n",
       "      <th>onehotencoder__x0_Milan, Italy</th>\n",
       "      <th>onehotencoder__x0_Paris, France</th>\n",
       "      <th>onehotencoder__x0_Vienna, Austria</th>\n",
       "      <th>onehotencoder__x1_2015</th>\n",
       "      <th>onehotencoder__x1_2016</th>\n",
       "      <th>onehotencoder__x1_2017</th>\n",
       "      <th>Additional_Number_of_Scoring</th>\n",
       "      <th>Average_Score</th>\n",
       "      <th>Negative_Review</th>\n",
       "      <th>Review_Total_Negative_Word_Counts</th>\n",
       "      <th>Total_Number_of_Reviews</th>\n",
       "      <th>Positive_Review</th>\n",
       "      <th>Review_Total_Positive_Word_Counts</th>\n",
       "      <th>Total_Number_of_Reviews_Reviewer_Has_Given</th>\n",
       "      <th>Reviewer_Score</th>\n",
       "      <th>Leisure_trip</th>\n",
       "      <th>Couple</th>\n",
       "      <th>Solo_traveler</th>\n",
       "      <th>Business_trip</th>\n",
       "      <th>Group</th>\n",
       "      <th>Family_with_young_children</th>\n",
       "      <th>Family_with_older_children</th>\n",
       "      <th>With_a_pet</th>\n",
       "      <th>Good or Not Good</th>\n",
       "    </tr>\n",
       "  </thead>\n",
       "  <tbody>\n",
       "    <tr>\n",
       "      <th>0</th>\n",
       "      <td>1.0</td>\n",
       "      <td>0.0</td>\n",
       "      <td>0.0</td>\n",
       "      <td>0.0</td>\n",
       "      <td>0.0</td>\n",
       "      <td>0.0</td>\n",
       "      <td>0.0</td>\n",
       "      <td>0.0</td>\n",
       "      <td>1.0</td>\n",
       "      <td>194</td>\n",
       "      <td>7.7</td>\n",
       "      <td>I am so angry that i made this post available...</td>\n",
       "      <td>397</td>\n",
       "      <td>1403</td>\n",
       "      <td>Only the park outside of the hotel was beauti...</td>\n",
       "      <td>11</td>\n",
       "      <td>7</td>\n",
       "      <td>3</td>\n",
       "      <td>1</td>\n",
       "      <td>1</td>\n",
       "      <td>0</td>\n",
       "      <td>0</td>\n",
       "      <td>0</td>\n",
       "      <td>0</td>\n",
       "      <td>0</td>\n",
       "      <td>0</td>\n",
       "      <td>0</td>\n",
       "    </tr>\n",
       "    <tr>\n",
       "      <th>1</th>\n",
       "      <td>1.0</td>\n",
       "      <td>0.0</td>\n",
       "      <td>0.0</td>\n",
       "      <td>0.0</td>\n",
       "      <td>0.0</td>\n",
       "      <td>0.0</td>\n",
       "      <td>0.0</td>\n",
       "      <td>0.0</td>\n",
       "      <td>1.0</td>\n",
       "      <td>194</td>\n",
       "      <td>7.7</td>\n",
       "      <td>No Negative</td>\n",
       "      <td>0</td>\n",
       "      <td>1403</td>\n",
       "      <td>No real complaints the hotel was great great ...</td>\n",
       "      <td>105</td>\n",
       "      <td>7</td>\n",
       "      <td>8</td>\n",
       "      <td>1</td>\n",
       "      <td>1</td>\n",
       "      <td>0</td>\n",
       "      <td>0</td>\n",
       "      <td>0</td>\n",
       "      <td>0</td>\n",
       "      <td>0</td>\n",
       "      <td>0</td>\n",
       "      <td>0</td>\n",
       "    </tr>\n",
       "    <tr>\n",
       "      <th>2</th>\n",
       "      <td>1.0</td>\n",
       "      <td>0.0</td>\n",
       "      <td>0.0</td>\n",
       "      <td>0.0</td>\n",
       "      <td>0.0</td>\n",
       "      <td>0.0</td>\n",
       "      <td>0.0</td>\n",
       "      <td>0.0</td>\n",
       "      <td>1.0</td>\n",
       "      <td>194</td>\n",
       "      <td>7.7</td>\n",
       "      <td>Rooms are nice but for elderly a bit difficul...</td>\n",
       "      <td>42</td>\n",
       "      <td>1403</td>\n",
       "      <td>Location was good and staff were ok It is cut...</td>\n",
       "      <td>21</td>\n",
       "      <td>9</td>\n",
       "      <td>7</td>\n",
       "      <td>1</td>\n",
       "      <td>0</td>\n",
       "      <td>0</td>\n",
       "      <td>0</td>\n",
       "      <td>0</td>\n",
       "      <td>1</td>\n",
       "      <td>0</td>\n",
       "      <td>0</td>\n",
       "      <td>0</td>\n",
       "    </tr>\n",
       "    <tr>\n",
       "      <th>3</th>\n",
       "      <td>1.0</td>\n",
       "      <td>0.0</td>\n",
       "      <td>0.0</td>\n",
       "      <td>0.0</td>\n",
       "      <td>0.0</td>\n",
       "      <td>0.0</td>\n",
       "      <td>0.0</td>\n",
       "      <td>0.0</td>\n",
       "      <td>1.0</td>\n",
       "      <td>194</td>\n",
       "      <td>7.7</td>\n",
       "      <td>My room was dirty and I was afraid to walk ba...</td>\n",
       "      <td>210</td>\n",
       "      <td>1403</td>\n",
       "      <td>Great location in nice surroundings the bar a...</td>\n",
       "      <td>26</td>\n",
       "      <td>1</td>\n",
       "      <td>4</td>\n",
       "      <td>1</td>\n",
       "      <td>0</td>\n",
       "      <td>1</td>\n",
       "      <td>0</td>\n",
       "      <td>0</td>\n",
       "      <td>0</td>\n",
       "      <td>0</td>\n",
       "      <td>0</td>\n",
       "      <td>0</td>\n",
       "    </tr>\n",
       "    <tr>\n",
       "      <th>4</th>\n",
       "      <td>1.0</td>\n",
       "      <td>0.0</td>\n",
       "      <td>0.0</td>\n",
       "      <td>0.0</td>\n",
       "      <td>0.0</td>\n",
       "      <td>0.0</td>\n",
       "      <td>0.0</td>\n",
       "      <td>0.0</td>\n",
       "      <td>1.0</td>\n",
       "      <td>194</td>\n",
       "      <td>7.7</td>\n",
       "      <td>You When I booked with your company on line y...</td>\n",
       "      <td>140</td>\n",
       "      <td>1403</td>\n",
       "      <td>Amazing location and building Romantic setting</td>\n",
       "      <td>8</td>\n",
       "      <td>3</td>\n",
       "      <td>7</td>\n",
       "      <td>1</td>\n",
       "      <td>1</td>\n",
       "      <td>0</td>\n",
       "      <td>0</td>\n",
       "      <td>0</td>\n",
       "      <td>0</td>\n",
       "      <td>0</td>\n",
       "      <td>0</td>\n",
       "      <td>0</td>\n",
       "    </tr>\n",
       "  </tbody>\n",
       "</table>\n",
       "</div>"
      ],
      "text/plain": [
       "  onehotencoder__x0_Amsterdam, Netherlands onehotencoder__x0_Barcelona, Spain  \\\n",
       "0                                      1.0                                0.0   \n",
       "1                                      1.0                                0.0   \n",
       "2                                      1.0                                0.0   \n",
       "3                                      1.0                                0.0   \n",
       "4                                      1.0                                0.0   \n",
       "\n",
       "  onehotencoder__x0_London UK onehotencoder__x0_Milan, Italy  \\\n",
       "0                         0.0                            0.0   \n",
       "1                         0.0                            0.0   \n",
       "2                         0.0                            0.0   \n",
       "3                         0.0                            0.0   \n",
       "4                         0.0                            0.0   \n",
       "\n",
       "  onehotencoder__x0_Paris, France onehotencoder__x0_Vienna, Austria  \\\n",
       "0                             0.0                               0.0   \n",
       "1                             0.0                               0.0   \n",
       "2                             0.0                               0.0   \n",
       "3                             0.0                               0.0   \n",
       "4                             0.0                               0.0   \n",
       "\n",
       "  onehotencoder__x1_2015 onehotencoder__x1_2016 onehotencoder__x1_2017  \\\n",
       "0                    0.0                    0.0                    1.0   \n",
       "1                    0.0                    0.0                    1.0   \n",
       "2                    0.0                    0.0                    1.0   \n",
       "3                    0.0                    0.0                    1.0   \n",
       "4                    0.0                    0.0                    1.0   \n",
       "\n",
       "   Additional_Number_of_Scoring  Average_Score  \\\n",
       "0                           194            7.7   \n",
       "1                           194            7.7   \n",
       "2                           194            7.7   \n",
       "3                           194            7.7   \n",
       "4                           194            7.7   \n",
       "\n",
       "                                     Negative_Review  \\\n",
       "0   I am so angry that i made this post available...   \n",
       "1                                        No Negative   \n",
       "2   Rooms are nice but for elderly a bit difficul...   \n",
       "3   My room was dirty and I was afraid to walk ba...   \n",
       "4   You When I booked with your company on line y...   \n",
       "\n",
       "   Review_Total_Negative_Word_Counts  Total_Number_of_Reviews  \\\n",
       "0                                397                     1403   \n",
       "1                                  0                     1403   \n",
       "2                                 42                     1403   \n",
       "3                                210                     1403   \n",
       "4                                140                     1403   \n",
       "\n",
       "                                     Positive_Review  \\\n",
       "0   Only the park outside of the hotel was beauti...   \n",
       "1   No real complaints the hotel was great great ...   \n",
       "2   Location was good and staff were ok It is cut...   \n",
       "3   Great location in nice surroundings the bar a...   \n",
       "4    Amazing location and building Romantic setting    \n",
       "\n",
       "   Review_Total_Positive_Word_Counts  \\\n",
       "0                                 11   \n",
       "1                                105   \n",
       "2                                 21   \n",
       "3                                 26   \n",
       "4                                  8   \n",
       "\n",
       "   Total_Number_of_Reviews_Reviewer_Has_Given  Reviewer_Score  Leisure_trip  \\\n",
       "0                                           7               3             1   \n",
       "1                                           7               8             1   \n",
       "2                                           9               7             1   \n",
       "3                                           1               4             1   \n",
       "4                                           3               7             1   \n",
       "\n",
       "   Couple  Solo_traveler  Business_trip  Group  Family_with_young_children  \\\n",
       "0       1              0              0      0                           0   \n",
       "1       1              0              0      0                           0   \n",
       "2       0              0              0      0                           1   \n",
       "3       0              1              0      0                           0   \n",
       "4       1              0              0      0                           0   \n",
       "\n",
       "   Family_with_older_children  With_a_pet  Good or Not Good  \n",
       "0                           0           0                 0  \n",
       "1                           0           0                 0  \n",
       "2                           0           0                 0  \n",
       "3                           0           0                 0  \n",
       "4                           0           0                 0  "
      ]
     },
     "execution_count": 182,
     "metadata": {},
     "output_type": "execute_result"
    }
   ],
   "source": [
    "#Checking all the numerical columns and leaving Positive Review and Negative Review as the only categorical columns\n",
    "df.head()"
   ]
  },
  {
   "cell_type": "code",
   "execution_count": 183,
   "id": "1a046479",
   "metadata": {},
   "outputs": [
    {
     "name": "stdout",
     "output_type": "stream",
     "text": [
      "Index(['onehotencoder__x0_Amsterdam, Netherlands',\n",
      "       'onehotencoder__x0_Barcelona, Spain', 'onehotencoder__x0_London UK',\n",
      "       'onehotencoder__x0_Milan, Italy', 'onehotencoder__x0_Paris, France',\n",
      "       'onehotencoder__x0_Vienna, Austria', 'onehotencoder__x1_2015',\n",
      "       'onehotencoder__x1_2016', 'onehotencoder__x1_2017',\n",
      "       'Additional_Number_of_Scoring', 'Average_Score', 'Negative_Review',\n",
      "       'Review_Total_Negative_Word_Counts', 'Total_Number_of_Reviews',\n",
      "       'Positive_Review', 'Review_Total_Positive_Word_Counts',\n",
      "       'Total_Number_of_Reviews_Reviewer_Has_Given', 'Reviewer_Score',\n",
      "       'Leisure_trip', 'Couple', 'Solo_traveler', 'Business_trip', 'Group',\n",
      "       'Family_with_young_children', 'Family_with_older_children',\n",
      "       'With_a_pet', 'Good or Not Good'],\n",
      "      dtype='object')\n"
     ]
    }
   ],
   "source": [
    "#Print the different columsn in dataframe\n",
    "print(df.columns)"
   ]
  },
  {
   "cell_type": "markdown",
   "id": "d5c70915",
   "metadata": {},
   "source": [
    "<u>Question 3c: Split the data into train and test sets.<u>"
   ]
  },
  {
   "cell_type": "code",
   "execution_count": 184,
   "id": "898c37d2",
   "metadata": {},
   "outputs": [],
   "source": [
    "from sklearn.model_selection import train_test_split"
   ]
  },
  {
   "cell_type": "code",
   "execution_count": 185,
   "id": "c202b42f",
   "metadata": {},
   "outputs": [
    {
     "data": {
      "text/html": [
       "<div>\n",
       "<style scoped>\n",
       "    .dataframe tbody tr th:only-of-type {\n",
       "        vertical-align: middle;\n",
       "    }\n",
       "\n",
       "    .dataframe tbody tr th {\n",
       "        vertical-align: top;\n",
       "    }\n",
       "\n",
       "    .dataframe thead th {\n",
       "        text-align: right;\n",
       "    }\n",
       "</style>\n",
       "<table border=\"1\" class=\"dataframe\">\n",
       "  <thead>\n",
       "    <tr style=\"text-align: right;\">\n",
       "      <th></th>\n",
       "      <th>onehotencoder__x0_Amsterdam, Netherlands</th>\n",
       "      <th>onehotencoder__x0_Barcelona, Spain</th>\n",
       "      <th>onehotencoder__x0_London UK</th>\n",
       "      <th>onehotencoder__x0_Milan, Italy</th>\n",
       "      <th>onehotencoder__x0_Paris, France</th>\n",
       "      <th>onehotencoder__x0_Vienna, Austria</th>\n",
       "      <th>onehotencoder__x1_2015</th>\n",
       "      <th>onehotencoder__x1_2016</th>\n",
       "      <th>onehotencoder__x1_2017</th>\n",
       "      <th>Negative_Review</th>\n",
       "      <th>Positive_Review</th>\n",
       "    </tr>\n",
       "  </thead>\n",
       "  <tbody>\n",
       "    <tr>\n",
       "      <th>0</th>\n",
       "      <td>1.0</td>\n",
       "      <td>0.0</td>\n",
       "      <td>0.0</td>\n",
       "      <td>0.0</td>\n",
       "      <td>0.0</td>\n",
       "      <td>0.0</td>\n",
       "      <td>0.0</td>\n",
       "      <td>0.0</td>\n",
       "      <td>1.0</td>\n",
       "      <td>I am so angry that i made this post available...</td>\n",
       "      <td>Only the park outside of the hotel was beauti...</td>\n",
       "    </tr>\n",
       "    <tr>\n",
       "      <th>1</th>\n",
       "      <td>1.0</td>\n",
       "      <td>0.0</td>\n",
       "      <td>0.0</td>\n",
       "      <td>0.0</td>\n",
       "      <td>0.0</td>\n",
       "      <td>0.0</td>\n",
       "      <td>0.0</td>\n",
       "      <td>0.0</td>\n",
       "      <td>1.0</td>\n",
       "      <td>No Negative</td>\n",
       "      <td>No real complaints the hotel was great great ...</td>\n",
       "    </tr>\n",
       "    <tr>\n",
       "      <th>2</th>\n",
       "      <td>1.0</td>\n",
       "      <td>0.0</td>\n",
       "      <td>0.0</td>\n",
       "      <td>0.0</td>\n",
       "      <td>0.0</td>\n",
       "      <td>0.0</td>\n",
       "      <td>0.0</td>\n",
       "      <td>0.0</td>\n",
       "      <td>1.0</td>\n",
       "      <td>Rooms are nice but for elderly a bit difficul...</td>\n",
       "      <td>Location was good and staff were ok It is cut...</td>\n",
       "    </tr>\n",
       "    <tr>\n",
       "      <th>3</th>\n",
       "      <td>1.0</td>\n",
       "      <td>0.0</td>\n",
       "      <td>0.0</td>\n",
       "      <td>0.0</td>\n",
       "      <td>0.0</td>\n",
       "      <td>0.0</td>\n",
       "      <td>0.0</td>\n",
       "      <td>0.0</td>\n",
       "      <td>1.0</td>\n",
       "      <td>My room was dirty and I was afraid to walk ba...</td>\n",
       "      <td>Great location in nice surroundings the bar a...</td>\n",
       "    </tr>\n",
       "    <tr>\n",
       "      <th>4</th>\n",
       "      <td>1.0</td>\n",
       "      <td>0.0</td>\n",
       "      <td>0.0</td>\n",
       "      <td>0.0</td>\n",
       "      <td>0.0</td>\n",
       "      <td>0.0</td>\n",
       "      <td>0.0</td>\n",
       "      <td>0.0</td>\n",
       "      <td>1.0</td>\n",
       "      <td>You When I booked with your company on line y...</td>\n",
       "      <td>Amazing location and building Romantic setting</td>\n",
       "    </tr>\n",
       "  </tbody>\n",
       "</table>\n",
       "</div>"
      ],
      "text/plain": [
       "  onehotencoder__x0_Amsterdam, Netherlands onehotencoder__x0_Barcelona, Spain  \\\n",
       "0                                      1.0                                0.0   \n",
       "1                                      1.0                                0.0   \n",
       "2                                      1.0                                0.0   \n",
       "3                                      1.0                                0.0   \n",
       "4                                      1.0                                0.0   \n",
       "\n",
       "  onehotencoder__x0_London UK onehotencoder__x0_Milan, Italy  \\\n",
       "0                         0.0                            0.0   \n",
       "1                         0.0                            0.0   \n",
       "2                         0.0                            0.0   \n",
       "3                         0.0                            0.0   \n",
       "4                         0.0                            0.0   \n",
       "\n",
       "  onehotencoder__x0_Paris, France onehotencoder__x0_Vienna, Austria  \\\n",
       "0                             0.0                               0.0   \n",
       "1                             0.0                               0.0   \n",
       "2                             0.0                               0.0   \n",
       "3                             0.0                               0.0   \n",
       "4                             0.0                               0.0   \n",
       "\n",
       "  onehotencoder__x1_2015 onehotencoder__x1_2016 onehotencoder__x1_2017  \\\n",
       "0                    0.0                    0.0                    1.0   \n",
       "1                    0.0                    0.0                    1.0   \n",
       "2                    0.0                    0.0                    1.0   \n",
       "3                    0.0                    0.0                    1.0   \n",
       "4                    0.0                    0.0                    1.0   \n",
       "\n",
       "                                     Negative_Review  \\\n",
       "0   I am so angry that i made this post available...   \n",
       "1                                        No Negative   \n",
       "2   Rooms are nice but for elderly a bit difficul...   \n",
       "3   My room was dirty and I was afraid to walk ba...   \n",
       "4   You When I booked with your company on line y...   \n",
       "\n",
       "                                     Positive_Review  \n",
       "0   Only the park outside of the hotel was beauti...  \n",
       "1   No real complaints the hotel was great great ...  \n",
       "2   Location was good and staff were ok It is cut...  \n",
       "3   Great location in nice surroundings the bar a...  \n",
       "4    Amazing location and building Romantic setting   "
      ]
     },
     "execution_count": 185,
     "metadata": {},
     "output_type": "execute_result"
    }
   ],
   "source": [
    "#Checking the dataframe for categorical columns again, will only included the new one hot encoded columns\n",
    "#plus negative and positive review columns\n",
    "categorical_df = df.select_dtypes('object').copy()\n",
    "\n",
    "#Check\n",
    "categorical_df.head()"
   ]
  },
  {
   "cell_type": "code",
   "execution_count": 186,
   "id": "7442809f",
   "metadata": {},
   "outputs": [
    {
     "data": {
      "text/html": [
       "<div>\n",
       "<style scoped>\n",
       "    .dataframe tbody tr th:only-of-type {\n",
       "        vertical-align: middle;\n",
       "    }\n",
       "\n",
       "    .dataframe tbody tr th {\n",
       "        vertical-align: top;\n",
       "    }\n",
       "\n",
       "    .dataframe thead th {\n",
       "        text-align: right;\n",
       "    }\n",
       "</style>\n",
       "<table border=\"1\" class=\"dataframe\">\n",
       "  <thead>\n",
       "    <tr style=\"text-align: right;\">\n",
       "      <th></th>\n",
       "      <th>Additional_Number_of_Scoring</th>\n",
       "      <th>Average_Score</th>\n",
       "      <th>Review_Total_Negative_Word_Counts</th>\n",
       "      <th>Total_Number_of_Reviews</th>\n",
       "      <th>Review_Total_Positive_Word_Counts</th>\n",
       "      <th>Total_Number_of_Reviews_Reviewer_Has_Given</th>\n",
       "      <th>Reviewer_Score</th>\n",
       "      <th>Leisure_trip</th>\n",
       "      <th>Couple</th>\n",
       "      <th>Solo_traveler</th>\n",
       "      <th>Business_trip</th>\n",
       "      <th>Group</th>\n",
       "      <th>Family_with_young_children</th>\n",
       "      <th>Family_with_older_children</th>\n",
       "      <th>With_a_pet</th>\n",
       "      <th>Good or Not Good</th>\n",
       "    </tr>\n",
       "  </thead>\n",
       "  <tbody>\n",
       "    <tr>\n",
       "      <th>0</th>\n",
       "      <td>194</td>\n",
       "      <td>7.7</td>\n",
       "      <td>397</td>\n",
       "      <td>1403</td>\n",
       "      <td>11</td>\n",
       "      <td>7</td>\n",
       "      <td>3</td>\n",
       "      <td>1</td>\n",
       "      <td>1</td>\n",
       "      <td>0</td>\n",
       "      <td>0</td>\n",
       "      <td>0</td>\n",
       "      <td>0</td>\n",
       "      <td>0</td>\n",
       "      <td>0</td>\n",
       "      <td>0</td>\n",
       "    </tr>\n",
       "    <tr>\n",
       "      <th>1</th>\n",
       "      <td>194</td>\n",
       "      <td>7.7</td>\n",
       "      <td>0</td>\n",
       "      <td>1403</td>\n",
       "      <td>105</td>\n",
       "      <td>7</td>\n",
       "      <td>8</td>\n",
       "      <td>1</td>\n",
       "      <td>1</td>\n",
       "      <td>0</td>\n",
       "      <td>0</td>\n",
       "      <td>0</td>\n",
       "      <td>0</td>\n",
       "      <td>0</td>\n",
       "      <td>0</td>\n",
       "      <td>0</td>\n",
       "    </tr>\n",
       "    <tr>\n",
       "      <th>2</th>\n",
       "      <td>194</td>\n",
       "      <td>7.7</td>\n",
       "      <td>42</td>\n",
       "      <td>1403</td>\n",
       "      <td>21</td>\n",
       "      <td>9</td>\n",
       "      <td>7</td>\n",
       "      <td>1</td>\n",
       "      <td>0</td>\n",
       "      <td>0</td>\n",
       "      <td>0</td>\n",
       "      <td>0</td>\n",
       "      <td>1</td>\n",
       "      <td>0</td>\n",
       "      <td>0</td>\n",
       "      <td>0</td>\n",
       "    </tr>\n",
       "    <tr>\n",
       "      <th>3</th>\n",
       "      <td>194</td>\n",
       "      <td>7.7</td>\n",
       "      <td>210</td>\n",
       "      <td>1403</td>\n",
       "      <td>26</td>\n",
       "      <td>1</td>\n",
       "      <td>4</td>\n",
       "      <td>1</td>\n",
       "      <td>0</td>\n",
       "      <td>1</td>\n",
       "      <td>0</td>\n",
       "      <td>0</td>\n",
       "      <td>0</td>\n",
       "      <td>0</td>\n",
       "      <td>0</td>\n",
       "      <td>0</td>\n",
       "    </tr>\n",
       "    <tr>\n",
       "      <th>4</th>\n",
       "      <td>194</td>\n",
       "      <td>7.7</td>\n",
       "      <td>140</td>\n",
       "      <td>1403</td>\n",
       "      <td>8</td>\n",
       "      <td>3</td>\n",
       "      <td>7</td>\n",
       "      <td>1</td>\n",
       "      <td>1</td>\n",
       "      <td>0</td>\n",
       "      <td>0</td>\n",
       "      <td>0</td>\n",
       "      <td>0</td>\n",
       "      <td>0</td>\n",
       "      <td>0</td>\n",
       "      <td>0</td>\n",
       "    </tr>\n",
       "  </tbody>\n",
       "</table>\n",
       "</div>"
      ],
      "text/plain": [
       "   Additional_Number_of_Scoring  Average_Score  \\\n",
       "0                           194            7.7   \n",
       "1                           194            7.7   \n",
       "2                           194            7.7   \n",
       "3                           194            7.7   \n",
       "4                           194            7.7   \n",
       "\n",
       "   Review_Total_Negative_Word_Counts  Total_Number_of_Reviews  \\\n",
       "0                                397                     1403   \n",
       "1                                  0                     1403   \n",
       "2                                 42                     1403   \n",
       "3                                210                     1403   \n",
       "4                                140                     1403   \n",
       "\n",
       "   Review_Total_Positive_Word_Counts  \\\n",
       "0                                 11   \n",
       "1                                105   \n",
       "2                                 21   \n",
       "3                                 26   \n",
       "4                                  8   \n",
       "\n",
       "   Total_Number_of_Reviews_Reviewer_Has_Given  Reviewer_Score  Leisure_trip  \\\n",
       "0                                           7               3             1   \n",
       "1                                           7               8             1   \n",
       "2                                           9               7             1   \n",
       "3                                           1               4             1   \n",
       "4                                           3               7             1   \n",
       "\n",
       "   Couple  Solo_traveler  Business_trip  Group  Family_with_young_children  \\\n",
       "0       1              0              0      0                           0   \n",
       "1       1              0              0      0                           0   \n",
       "2       0              0              0      0                           1   \n",
       "3       0              1              0      0                           0   \n",
       "4       1              0              0      0                           0   \n",
       "\n",
       "   Family_with_older_children  With_a_pet  Good or Not Good  \n",
       "0                           0           0                 0  \n",
       "1                           0           0                 0  \n",
       "2                           0           0                 0  \n",
       "3                           0           0                 0  \n",
       "4                           0           0                 0  "
      ]
     },
     "execution_count": 186,
     "metadata": {},
     "output_type": "execute_result"
    }
   ],
   "source": [
    "# Checking the dataframes with only the numeric columns again, new ones should be added from the previous questions\n",
    "numeric_df = df.select_dtypes(['int64','float64']).copy()\n",
    "\n",
    "numeric_df.head()"
   ]
  },
  {
   "cell_type": "code",
   "execution_count": 187,
   "id": "e03ea61a",
   "metadata": {},
   "outputs": [],
   "source": [
    "#Making the X and Y values\n",
    "X = numeric_df\n",
    "y = categorical_df"
   ]
  },
  {
   "cell_type": "code",
   "execution_count": 188,
   "id": "3a9c54e7",
   "metadata": {},
   "outputs": [],
   "source": [
    "# splitting our data into train and test sets\n",
    "X_train, X_test, y_train, y_test = train_test_split(X, y, test_size = 0.33, random_state=2)"
   ]
  },
  {
   "cell_type": "code",
   "execution_count": 189,
   "id": "cb67c612",
   "metadata": {},
   "outputs": [
    {
     "data": {
      "text/plain": [
       "(345192, 16)"
      ]
     },
     "execution_count": 189,
     "metadata": {},
     "output_type": "execute_result"
    }
   ],
   "source": [
    "# size of training data\n",
    "X_train.shape"
   ]
  },
  {
   "cell_type": "code",
   "execution_count": 190,
   "id": "803859e1",
   "metadata": {},
   "outputs": [
    {
     "data": {
      "text/plain": [
       "(170020, 16)"
      ]
     },
     "execution_count": 190,
     "metadata": {},
     "output_type": "execute_result"
    }
   ],
   "source": [
    "# size of test data\n",
    "X_test.shape"
   ]
  },
  {
   "cell_type": "code",
   "execution_count": 191,
   "id": "592b5dbf",
   "metadata": {},
   "outputs": [
    {
     "data": {
      "text/plain": [
       "(345192, 11)"
      ]
     },
     "execution_count": 191,
     "metadata": {},
     "output_type": "execute_result"
    }
   ],
   "source": [
    "y_train.shape"
   ]
  },
  {
   "cell_type": "code",
   "execution_count": 192,
   "id": "8f4b4490",
   "metadata": {},
   "outputs": [
    {
     "data": {
      "text/plain": [
       "(170020, 11)"
      ]
     },
     "execution_count": 192,
     "metadata": {},
     "output_type": "execute_result"
    }
   ],
   "source": [
    "y_test.shape"
   ]
  },
  {
   "cell_type": "markdown",
   "id": "975b256a",
   "metadata": {},
   "source": [
    "<u>Question 3d: Use a count vectorizer to combine Positive_Review and Negative_Review with the numeric data (notice that this is done AFTER the train/test split). You should vectorize each column separately, ending up with two sparse matrixes, and then combine the three matrixes (numeric data, positive matrix, negative matrix). You may have to adjust the min_df parameter.<u>"
   ]
  },
  {
   "cell_type": "code",
   "execution_count": 193,
   "id": "614f11fd",
   "metadata": {},
   "outputs": [],
   "source": [
    "from sklearn.feature_extraction.text import CountVectorizer, TfidfVectorizer"
   ]
  },
  {
   "cell_type": "markdown",
   "id": "81480ced",
   "metadata": {},
   "source": [
    "Vectorizing the Positive Review column into a sparse matrix"
   ]
  },
  {
   "cell_type": "code",
   "execution_count": 194,
   "id": "e155195f",
   "metadata": {},
   "outputs": [
    {
     "data": {
      "text/plain": [
       "<515212x13041 sparse matrix of type '<class 'numpy.int64'>'\n",
       "\twith 4380727 stored elements in Compressed Sparse Row format>"
      ]
     },
     "execution_count": 194,
     "metadata": {},
     "output_type": "execute_result"
    }
   ],
   "source": [
    "# 1. Instantiate \n",
    "bagofwords = CountVectorizer(stop_words=\"english\", min_df=5)\n",
    "\n",
    "# 2. Fit \n",
    "bagofwords.fit(df[\"Positive_Review\"])\n",
    "\n",
    "# 3. Transform\n",
    "positive_transformed = bagofwords.transform(df[\"Positive_Review\"])\n",
    "positive_transformed"
   ]
  },
  {
   "cell_type": "markdown",
   "id": "31c7c55a",
   "metadata": {},
   "source": [
    "Vectorizing the Negative Review column into a sparse matrix"
   ]
  },
  {
   "cell_type": "code",
   "execution_count": 195,
   "id": "5970d2b2",
   "metadata": {},
   "outputs": [
    {
     "data": {
      "text/plain": [
       "<515212x15157 sparse matrix of type '<class 'numpy.int64'>'\n",
       "\twith 3818868 stored elements in Compressed Sparse Row format>"
      ]
     },
     "execution_count": 195,
     "metadata": {},
     "output_type": "execute_result"
    }
   ],
   "source": [
    "# 1. Instantiate \n",
    "bagofwords = CountVectorizer(stop_words=\"english\", min_df=5)\n",
    "\n",
    "# 2. Fit \n",
    "bagofwords.fit(df[\"Negative_Review\"])\n",
    "\n",
    "# 3. Transform\n",
    "negative_transformed = bagofwords.transform(df[\"Negative_Review\"])\n",
    "negative_transformed"
   ]
  },
  {
   "cell_type": "markdown",
   "id": "5e89e99f",
   "metadata": {},
   "source": [
    "Vectorizing the Numeric dataframe into a sparse matrix"
   ]
  },
  {
   "cell_type": "code",
   "execution_count": 196,
   "id": "ee0ca93a",
   "metadata": {},
   "outputs": [
    {
     "data": {
      "text/plain": [
       "<16x16 sparse matrix of type '<class 'numpy.int64'>'\n",
       "\twith 16 stored elements in Compressed Sparse Row format>"
      ]
     },
     "execution_count": 196,
     "metadata": {},
     "output_type": "execute_result"
    }
   ],
   "source": [
    "# 1. Instantiate \n",
    "bagofwords = CountVectorizer(stop_words=\"english\", min_df=1)\n",
    "\n",
    "# 2. Fit \n",
    "bagofwords.fit(X_train)\n",
    "\n",
    "# 3. Transform\n",
    "X_train_transformed = bagofwords.transform(X_train)\n",
    "X_train_transformed"
   ]
  },
  {
   "cell_type": "markdown",
   "id": "f3fdf70e",
   "metadata": {},
   "source": [
    "When I vectorize the numeric dataframe I can only execute the code if I change the min_df=1. Any other number will result in an error."
   ]
  },
  {
   "cell_type": "markdown",
   "id": "a12e7d38",
   "metadata": {},
   "source": [
    "Combining the Postive Review, Negative Review and Numeric column using a column transformer."
   ]
  },
  {
   "cell_type": "code",
   "execution_count": 197,
   "id": "4541b6b5",
   "metadata": {},
   "outputs": [
    {
     "data": {
      "text/plain": [
       "<bound method ColumnTransformer.fit_transform of ColumnTransformer(transformers=[('countvectorizer-1',\n",
       "                                 CountVectorizer(stop_words='english'),\n",
       "                                 'Positive_Review'),\n",
       "                                ('countvectorizer-2',\n",
       "                                 CountVectorizer(stop_words='english'),\n",
       "                                 'Negative_Review'),\n",
       "                                ('countvectorizer-3',\n",
       "                                 CountVectorizer(stop_words='english'),\n",
       "                                         Additional_Number_of_Scoring  Average_Score  \\\n",
       "354090                           174            8.8   \n",
       "207147                           545            8.0   \n",
       "287393                            61            8.1   \n",
       "446610                           416            8.5   \n",
       "319214                           341            7.8   \n",
       ".....\n",
       "319214             1       1              0              0      0   \n",
       "...              ...     ...            ...            ...    ...   \n",
       "437782             1       0              0              0      0   \n",
       "95816              1       1              0              0      0   \n",
       "203245             1       1              0              0      0   \n",
       "100879             1       1              0              0      0   \n",
       "351400             1       1              0              0      0   \n",
       "\n",
       "        Family_with_young_children  Family_with_older_children  With_a_pet  \\\n",
       "354090                           1                           0           0   \n",
       "207147                           0                           0           0   \n",
       "287393                           1                           0           0   \n",
       "446610                           1                           0           0   \n",
       "319214                           0                           0           0   \n",
       "...                            ...                         ...         ...   \n",
       "437782                           1                           0           0   \n",
       "95816                            0                           0           0   \n",
       "203245                           0                           0           0   \n",
       "100879                           0                           0           0   \n",
       "351400                           0                           0           0   \n",
       "\n",
       "        Good or Not Good  \n",
       "354090                 1  \n",
       "207147                 1  \n",
       "287393                 0  \n",
       "446610                 1  \n",
       "319214                 1  \n",
       "...                  ...  \n",
       "437782                 1  \n",
       "95816                  1  \n",
       "203245                 1  \n",
       "100879                 0  \n",
       "351400                 1  \n",
       "\n",
       "[345192 rows x 16 columns])])>"
      ]
     },
     "execution_count": 197,
     "metadata": {},
     "output_type": "execute_result"
    }
   ],
   "source": [
    "#Combine Positive_Review, Negative_Review and numeric columns\n",
    "from sklearn.compose import make_column_transformer\n",
    "ct = make_column_transformer ((bagofwords, 'Positive_Review'), (bagofwords, 'Negative_Review'), (bagofwords, X_train))\n",
    "ct.fit_transform"
   ]
  },
  {
   "cell_type": "markdown",
   "id": "3f4addf1",
   "metadata": {},
   "source": [
    "<u>Question 3e: What does the min_df parameter do?<u>"
   ]
  },
  {
   "cell_type": "markdown",
   "id": "167102f5",
   "metadata": {},
   "source": [
    "min_df is used for removing terms that appear too infrequently"
   ]
  },
  {
   "cell_type": "markdown",
   "id": "c5d6b757",
   "metadata": {},
   "source": [
    "min_df = 1, which means \"ignore terms that appear in less than 1 document\"."
   ]
  },
  {
   "cell_type": "code",
   "execution_count": null,
   "id": "13c62c14",
   "metadata": {},
   "outputs": [],
   "source": []
  }
 ],
 "metadata": {
  "kernelspec": {
   "display_name": "Python 3 (ipykernel)",
   "language": "python",
   "name": "python3"
  },
  "language_info": {
   "codemirror_mode": {
    "name": "ipython",
    "version": 3
   },
   "file_extension": ".py",
   "mimetype": "text/x-python",
   "name": "python",
   "nbconvert_exporter": "python",
   "pygments_lexer": "ipython3",
   "version": "3.9.7"
  }
 },
 "nbformat": 4,
 "nbformat_minor": 5
}
